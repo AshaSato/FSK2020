{
 "cells": [
  {
   "cell_type": "markdown",
   "metadata": {},
   "source": [
    "This notebook contains the data processing and analyses for Flaherty, Sato & Kirby (2020). \n",
    "\n",
    "The following steps for pre-processing the data are not included in this notebook, as these involve the manipulation of confidential (e.g. video) data:\n",
    "\n",
    "1. Transformation of kinect data by a scaling factor to enable comparison of body tracking data obtained from people with differing body sizes. All data was scaled using a scaling factor obtained from each participant's forearm length. \n",
    "2. Time-aligning of kinect data and video data for glossing\n",
    " \n"
   ]
  },
  {
   "cell_type": "code",
   "execution_count": null,
   "metadata": {
    "collapsed": false,
    "scrolled": true
   },
   "outputs": [
    {
     "data": {
      "text/html": [
       "<ol class=list-inline>\n",
       "\t<li>'utterance_glosses.csv'</li>\n",
       "\t<li>'whole_session_data_scaled.csv'</li>\n",
       "\t<li>'whole_session_data_segmented.csv'</li>\n",
       "\t<li>'year_of_entry.csv'</li>\n",
       "</ol>\n"
      ],
      "text/latex": [
       "\\begin{enumerate*}\n",
       "\\item 'utterance\\_glosses.csv'\n",
       "\\item 'whole\\_session\\_data\\_scaled.csv'\n",
       "\\item 'whole\\_session\\_data\\_segmented.csv'\n",
       "\\item 'year\\_of\\_entry.csv'\n",
       "\\end{enumerate*}\n"
      ],
      "text/markdown": [
       "1. 'utterance_glosses.csv'\n",
       "2. 'whole_session_data_scaled.csv'\n",
       "3. 'whole_session_data_segmented.csv'\n",
       "4. 'year_of_entry.csv'\n",
       "\n",
       "\n"
      ],
      "text/plain": [
       "[1] \"utterance_glosses.csv\"            \"whole_session_data_scaled.csv\"   \n",
       "[3] \"whole_session_data_segmented.csv\" \"year_of_entry.csv\"               "
      ]
     },
     "metadata": {},
     "output_type": "display_data"
    }
   ],
   "source": [
    "try(setwd(\"/Users/Asha/Flaherty_Sato_Kirby_2020\"))\n",
    "list.files()\n",
    "\n",
    "# two data sources: scaled kinect data for the whole session and glossed utterances with start and end frames.\n",
    "\n",
    "body_data <- read.csv(\"whole_session_data_scaled.csv\")\n",
    "gloss <- read.csv(\"utterance_glosses.csv\")\n"
   ]
  },
  {
   "cell_type": "code",
   "execution_count": null,
   "metadata": {
    "collapsed": false
   },
   "outputs": [],
   "source": [
    "# looking at the glossed data\n",
    "\n",
    "gloss <- gloss[order(gloss$Utt.number),] #re-order so utterances are in order. \n",
    "head(gloss,1)\n",
    "\n",
    "# a typing error means the utterance numbers are not sequential:\n",
    "# unique(gloss$Utt.number) \n",
    "\n",
    "# sequential utterance numbers are assigned in a new column (correspondence to number in original coding is preserved)\n",
    "gloss$utterance_number <- factor(gloss$Utt.number)\n",
    "levels(gloss$utterance_number) <- seq(1:length(unique(gloss$Utt.number)))\n",
    "\n",
    "\n",
    "head(gloss$utterance_number)\n",
    "tail(gloss$utterance_number)\n"
   ]
  },
  {
   "cell_type": "code",
   "execution_count": null,
   "metadata": {
    "collapsed": false
   },
   "outputs": [],
   "source": [
    "# looking at the body data \n",
    "\n",
    "head(body_data)"
   ]
  },
  {
   "cell_type": "markdown",
   "metadata": {},
   "source": [
    "### Combining body data and glossed data\n"
   ]
  },
  {
   "cell_type": "code",
   "execution_count": null,
   "metadata": {
    "collapsed": false
   },
   "outputs": [],
   "source": [
    "# first we get a dataframe with utterance start and end points for each utterance\n",
    "utterances <- as.data.frame(unique(cbind(id = gloss$Signer,  utterance_number = gloss$utterance_number, start_frame = gloss$Utterance..Utterance.Frame1, end_frame = gloss$Utterance..Utterance.last.frame)))\n",
    "\n",
    "head(utterances,3)\n",
    "tail(utterances,3)"
   ]
  },
  {
   "cell_type": "code",
   "execution_count": null,
   "metadata": {
    "collapsed": false
   },
   "outputs": [],
   "source": [
    "#give body dataframe a column with id that matches the one in utterances dataframe for merging\n",
    "body_data$id <- as.numeric(substring(body_data$skeletonID,2))\n",
    "head(body_data)"
   ]
  },
  {
   "cell_type": "code",
   "execution_count": null,
   "metadata": {
    "collapsed": false
   },
   "outputs": [],
   "source": [
    "# merge the two dataframes, using start and end frames from utterances to label frames with their utterance number or NA\n",
    "\n",
    "m <- merge(body_data, do.call(rbind, apply(utterances, 1\n",
    "  , function(x) cbind(id=x[1], utterance_number=x[2], frame=x[3]:x[4])))\n",
    " , all.x=TRUE)\n",
    "    \n",
    "m <- m[order(m$id),]\n",
    "head(m)\n"
   ]
  },
  {
   "cell_type": "code",
   "execution_count": null,
   "metadata": {
    "collapsed": false
   },
   "outputs": [],
   "source": [
    "# add column specifying frame type (utterance or not)\n",
    "m$is_utterance <- ifelse(is.na(m$utterance_number) == TRUE, 0,1)\n",
    "\n",
    "# assign 'segment numbers'\n",
    "# for utterances this is the utterance number\n",
    "# for non-utterance segments this is taken from the adjacent utterance number.\n",
    "require(zoo)\n",
    "m$segment_number <- na.locf(m$utterance_number, na.rm = FALSE, by = list(m$id))  \n",
    "m$segment_number <- na.locf(m$segment_number, na.rm = FALSE, by = list(m$id), fromLast = TRUE)\n",
    "\n",
    "head(m,3)\n",
    "tail(m,3)\n"
   ]
  },
  {
   "cell_type": "code",
   "execution_count": 40,
   "metadata": {
    "collapsed": true
   },
   "outputs": [],
   "source": [
    "# utterance 65 is excluded (71 in original coding) due to failure of the device\n",
    "# keep NA\n",
    "m <- subset(m, utterance_number != 65|is.na(utterance_number))\n"
   ]
  },
  {
   "cell_type": "code",
   "execution_count": 41,
   "metadata": {
    "collapsed": false
   },
   "outputs": [],
   "source": [
    "write.csv(m,\"whole_session_data_segmented.csv\", row.names = FALSE)"
   ]
  },
  {
   "cell_type": "markdown",
   "metadata": {},
   "source": [
    "# BOUNDING BOX"
   ]
  },
  {
   "cell_type": "code",
   "execution_count": 187,
   "metadata": {
    "collapsed": false
   },
   "outputs": [
    {
     "data": {
      "text/html": [
       "<ol class=list-inline>\n",
       "\t<li>'utterance_glosses.csv'</li>\n",
       "\t<li>'whole_session_data_scaled.csv'</li>\n",
       "\t<li>'whole_session_data_segmented.csv'</li>\n",
       "\t<li>'year_of_entry.csv'</li>\n",
       "</ol>\n"
      ],
      "text/latex": [
       "\\begin{enumerate*}\n",
       "\\item 'utterance\\_glosses.csv'\n",
       "\\item 'whole\\_session\\_data\\_scaled.csv'\n",
       "\\item 'whole\\_session\\_data\\_segmented.csv'\n",
       "\\item 'year\\_of\\_entry.csv'\n",
       "\\end{enumerate*}\n"
      ],
      "text/markdown": [
       "1. 'utterance_glosses.csv'\n",
       "2. 'whole_session_data_scaled.csv'\n",
       "3. 'whole_session_data_segmented.csv'\n",
       "4. 'year_of_entry.csv'\n",
       "\n",
       "\n"
      ],
      "text/plain": [
       "[1] \"utterance_glosses.csv\"            \"whole_session_data_scaled.csv\"   \n",
       "[3] \"whole_session_data_segmented.csv\" \"year_of_entry.csv\"               "
      ]
     },
     "metadata": {},
     "output_type": "display_data"
    }
   ],
   "source": [
    "try(setwd(\"/Users/Asha/Flaherty_Sato_Kirby_2020\"))\n",
    "list.files()\n",
    "\n",
    "dat <- read.csv(\"whole_session_data_segmented.csv\")"
   ]
  },
  {
   "cell_type": "code",
   "execution_count": 188,
   "metadata": {
    "collapsed": false
   },
   "outputs": [
    {
     "data": {
      "text/html": [
       "<table>\n",
       "<thead><tr><th scope=col>frame</th><th scope=col>id</th><th scope=col>X</th><th scope=col>TimeStamp</th><th scope=col>skeletonID</th><th scope=col>HIP_CENTER_X</th><th scope=col>HIP_CENTER_Y</th><th scope=col>HIP_CENTER_Z</th><th scope=col>HIP_CENTER_TRACKSTATE</th><th scope=col>SPINE_X</th><th scope=col>⋯</th><th scope=col>HANDTIP_RIGHT_Z</th><th scope=col>HANDTIP_RIGHT_TRACKSTATE</th><th scope=col>THUMB_RIGHT_X</th><th scope=col>THUMB_RIGHT_Y</th><th scope=col>THUMB_RIGHT_Z</th><th scope=col>THUMB_RIGHT_TRACKSTATE</th><th scope=col>ppt</th><th scope=col>utterance_number</th><th scope=col>is_utterance</th><th scope=col>segment_number</th></tr></thead>\n",
       "<tbody>\n",
       "\t<tr><td>1        </td><td>27       </td><td>95757    </td><td>      0  </td><td>p27      </td><td>1.0822322</td><td>47.14464 </td><td>12.35252 </td><td>2        </td><td>0.1706741</td><td>⋯        </td><td>65.84434 </td><td>2        </td><td>2.582145 </td><td>-6.50609 </td><td>55.91675 </td><td>2        </td><td>27       </td><td>NA       </td><td>0        </td><td>538      </td></tr>\n",
       "\t<tr><td>2        </td><td>27       </td><td>95758    </td><td> 330000  </td><td>p27      </td><td>1.0267540</td><td>47.14464 </td><td>12.31889 </td><td>2        </td><td>0.1706741</td><td>⋯        </td><td>65.55738 </td><td>2        </td><td>2.582145 </td><td>-6.50609 </td><td>55.84663 </td><td>2        </td><td>27       </td><td>NA       </td><td>0        </td><td>538      </td></tr>\n",
       "\t<tr><td>3        </td><td>27       </td><td>95759    </td><td> 660000  </td><td>p27      </td><td>0.9836366</td><td>47.14464 </td><td>12.34791 </td><td>2        </td><td>0.1830348</td><td>⋯        </td><td>65.25899 </td><td>2        </td><td>2.594505 </td><td>-6.50609 </td><td>55.77650 </td><td>2        </td><td>27       </td><td>NA       </td><td>0        </td><td>538      </td></tr>\n",
       "\t<tr><td>4        </td><td>27       </td><td>95760    </td><td> 990000  </td><td>p27      </td><td>0.9959974</td><td>47.14464 </td><td>12.41057 </td><td>2        </td><td>0.1953956</td><td>⋯        </td><td>65.24757 </td><td>2        </td><td>2.606866 </td><td>-6.50609 </td><td>55.77650 </td><td>2        </td><td>27       </td><td>NA       </td><td>0        </td><td>538      </td></tr>\n",
       "\t<tr><td>5        </td><td>27       </td><td>95761    </td><td>1320000  </td><td>p27      </td><td>1.0083581</td><td>47.14464 </td><td>12.49694 </td><td>2        </td><td>0.2077563</td><td>⋯        </td><td>64.75792 </td><td>2        </td><td>3.358473 </td><td>-6.50609 </td><td>55.77650 </td><td>2        </td><td>27       </td><td>NA       </td><td>0        </td><td>538      </td></tr>\n",
       "\t<tr><td>6        </td><td>27       </td><td>95762    </td><td>1650000  </td><td>p27      </td><td>1.0083581</td><td>47.14464 </td><td>12.52066 </td><td>2        </td><td>0.2077563</td><td>⋯        </td><td>64.27970 </td><td>2        </td><td>4.097719 </td><td>-6.50609 </td><td>55.77650 </td><td>2        </td><td>27       </td><td>NA       </td><td>0        </td><td>538      </td></tr>\n",
       "</tbody>\n",
       "</table>\n"
      ],
      "text/latex": [
       "\\begin{tabular}{r|lllllllllllllllllllllllllllllllllllllllllllllllllllllllllllllllllllllllllllllllllllllllllllllllllllllllllllll}\n",
       " frame & id & X & TimeStamp & skeletonID & HIP\\_CENTER\\_X & HIP\\_CENTER\\_Y & HIP\\_CENTER\\_Z & HIP\\_CENTER\\_TRACKSTATE & SPINE\\_X & ⋯ & HANDTIP\\_RIGHT\\_Z & HANDTIP\\_RIGHT\\_TRACKSTATE & THUMB\\_RIGHT\\_X & THUMB\\_RIGHT\\_Y & THUMB\\_RIGHT\\_Z & THUMB\\_RIGHT\\_TRACKSTATE & ppt & utterance\\_number & is\\_utterance & segment\\_number\\\\\n",
       "\\hline\n",
       "\t 1         & 27        & 95757     &       0   & p27       & 1.0822322 & 47.14464  & 12.35252  & 2         & 0.1706741 & ⋯         & 65.84434  & 2         & 2.582145  & -6.50609  & 55.91675  & 2         & 27        & NA        & 0         & 538      \\\\\n",
       "\t 2         & 27        & 95758     &  330000   & p27       & 1.0267540 & 47.14464  & 12.31889  & 2         & 0.1706741 & ⋯         & 65.55738  & 2         & 2.582145  & -6.50609  & 55.84663  & 2         & 27        & NA        & 0         & 538      \\\\\n",
       "\t 3         & 27        & 95759     &  660000   & p27       & 0.9836366 & 47.14464  & 12.34791  & 2         & 0.1830348 & ⋯         & 65.25899  & 2         & 2.594505  & -6.50609  & 55.77650  & 2         & 27        & NA        & 0         & 538      \\\\\n",
       "\t 4         & 27        & 95760     &  990000   & p27       & 0.9959974 & 47.14464  & 12.41057  & 2         & 0.1953956 & ⋯         & 65.24757  & 2         & 2.606866  & -6.50609  & 55.77650  & 2         & 27        & NA        & 0         & 538      \\\\\n",
       "\t 5         & 27        & 95761     & 1320000   & p27       & 1.0083581 & 47.14464  & 12.49694  & 2         & 0.2077563 & ⋯         & 64.75792  & 2         & 3.358473  & -6.50609  & 55.77650  & 2         & 27        & NA        & 0         & 538      \\\\\n",
       "\t 6         & 27        & 95762     & 1650000   & p27       & 1.0083581 & 47.14464  & 12.52066  & 2         & 0.2077563 & ⋯         & 64.27970  & 2         & 4.097719  & -6.50609  & 55.77650  & 2         & 27        & NA        & 0         & 538      \\\\\n",
       "\\end{tabular}\n"
      ],
      "text/markdown": [
       "\n",
       "frame | id | X | TimeStamp | skeletonID | HIP_CENTER_X | HIP_CENTER_Y | HIP_CENTER_Z | HIP_CENTER_TRACKSTATE | SPINE_X | ⋯ | HANDTIP_RIGHT_Z | HANDTIP_RIGHT_TRACKSTATE | THUMB_RIGHT_X | THUMB_RIGHT_Y | THUMB_RIGHT_Z | THUMB_RIGHT_TRACKSTATE | ppt | utterance_number | is_utterance | segment_number | \n",
       "|---|---|---|---|---|---|\n",
       "| 1         | 27        | 95757     |       0   | p27       | 1.0822322 | 47.14464  | 12.35252  | 2         | 0.1706741 | ⋯         | 65.84434  | 2         | 2.582145  | -6.50609  | 55.91675  | 2         | 27        | NA        | 0         | 538       | \n",
       "| 2         | 27        | 95758     |  330000   | p27       | 1.0267540 | 47.14464  | 12.31889  | 2         | 0.1706741 | ⋯         | 65.55738  | 2         | 2.582145  | -6.50609  | 55.84663  | 2         | 27        | NA        | 0         | 538       | \n",
       "| 3         | 27        | 95759     |  660000   | p27       | 0.9836366 | 47.14464  | 12.34791  | 2         | 0.1830348 | ⋯         | 65.25899  | 2         | 2.594505  | -6.50609  | 55.77650  | 2         | 27        | NA        | 0         | 538       | \n",
       "| 4         | 27        | 95760     |  990000   | p27       | 0.9959974 | 47.14464  | 12.41057  | 2         | 0.1953956 | ⋯         | 65.24757  | 2         | 2.606866  | -6.50609  | 55.77650  | 2         | 27        | NA        | 0         | 538       | \n",
       "| 5         | 27        | 95761     | 1320000   | p27       | 1.0083581 | 47.14464  | 12.49694  | 2         | 0.2077563 | ⋯         | 64.75792  | 2         | 3.358473  | -6.50609  | 55.77650  | 2         | 27        | NA        | 0         | 538       | \n",
       "| 6         | 27        | 95762     | 1650000   | p27       | 1.0083581 | 47.14464  | 12.52066  | 2         | 0.2077563 | ⋯         | 64.27970  | 2         | 4.097719  | -6.50609  | 55.77650  | 2         | 27        | NA        | 0         | 538       | \n",
       "\n",
       "\n"
      ],
      "text/plain": [
       "  frame id X     TimeStamp skeletonID HIP_CENTER_X HIP_CENTER_Y HIP_CENTER_Z\n",
       "1 1     27 95757       0   p27        1.0822322    47.14464     12.35252    \n",
       "2 2     27 95758  330000   p27        1.0267540    47.14464     12.31889    \n",
       "3 3     27 95759  660000   p27        0.9836366    47.14464     12.34791    \n",
       "4 4     27 95760  990000   p27        0.9959974    47.14464     12.41057    \n",
       "5 5     27 95761 1320000   p27        1.0083581    47.14464     12.49694    \n",
       "6 6     27 95762 1650000   p27        1.0083581    47.14464     12.52066    \n",
       "  HIP_CENTER_TRACKSTATE SPINE_X   ⋯ HANDTIP_RIGHT_Z HANDTIP_RIGHT_TRACKSTATE\n",
       "1 2                     0.1706741 ⋯ 65.84434        2                       \n",
       "2 2                     0.1706741 ⋯ 65.55738        2                       \n",
       "3 2                     0.1830348 ⋯ 65.25899        2                       \n",
       "4 2                     0.1953956 ⋯ 65.24757        2                       \n",
       "5 2                     0.2077563 ⋯ 64.75792        2                       \n",
       "6 2                     0.2077563 ⋯ 64.27970        2                       \n",
       "  THUMB_RIGHT_X THUMB_RIGHT_Y THUMB_RIGHT_Z THUMB_RIGHT_TRACKSTATE ppt\n",
       "1 2.582145      -6.50609      55.91675      2                      27 \n",
       "2 2.582145      -6.50609      55.84663      2                      27 \n",
       "3 2.594505      -6.50609      55.77650      2                      27 \n",
       "4 2.606866      -6.50609      55.77650      2                      27 \n",
       "5 3.358473      -6.50609      55.77650      2                      27 \n",
       "6 4.097719      -6.50609      55.77650      2                      27 \n",
       "  utterance_number is_utterance segment_number\n",
       "1 NA               0            538           \n",
       "2 NA               0            538           \n",
       "3 NA               0            538           \n",
       "4 NA               0            538           \n",
       "5 NA               0            538           \n",
       "6 NA               0            538           "
      ]
     },
     "metadata": {},
     "output_type": "display_data"
    }
   ],
   "source": [
    "head(dat)"
   ]
  },
  {
   "cell_type": "code",
   "execution_count": 189,
   "metadata": {
    "collapsed": false
   },
   "outputs": [
    {
     "name": "stdout",
     "output_type": "stream",
     "text": [
      "number of frames in dataset:"
     ]
    },
    {
     "data": {
      "text/html": [
       "238253"
      ],
      "text/latex": [
       "238253"
      ],
      "text/markdown": [
       "238253"
      ],
      "text/plain": [
       "[1] 238253"
      ]
     },
     "metadata": {},
     "output_type": "display_data"
    },
    {
     "name": "stdout",
     "output_type": "stream",
     "text": [
      "number of frames coded as utterances:"
     ]
    },
    {
     "data": {
      "text/html": [
       "140955"
      ],
      "text/latex": [
       "140955"
      ],
      "text/markdown": [
       "140955"
      ],
      "text/plain": [
       "[1] 140955"
      ]
     },
     "metadata": {},
     "output_type": "display_data"
    },
    {
     "name": "stdout",
     "output_type": "stream",
     "text": [
      "number of frames not coded as utterances:"
     ]
    },
    {
     "data": {
      "text/html": [
       "97298"
      ],
      "text/latex": [
       "97298"
      ],
      "text/markdown": [
       "97298"
      ],
      "text/plain": [
       "[1] 97298"
      ]
     },
     "metadata": {},
     "output_type": "display_data"
    }
   ],
   "source": [
    "cat(\"number of frames in dataset:\")\n",
    "nrow(dat)\n",
    "\n",
    "cat(\"number of frames coded as utterances:\")\n",
    "nrow(subset(dat, is.na(dat$utterance_number)))\n",
    "\n",
    "cat(\"number of frames not coded as utterances:\")\n",
    "nrow(subset(dat, !is.na(dat$utterance_number)))\n"
   ]
  },
  {
   "cell_type": "markdown",
   "metadata": {},
   "source": [
    "## getting the bounding box"
   ]
  },
  {
   "cell_type": "code",
   "execution_count": 190,
   "metadata": {
    "collapsed": false
   },
   "outputs": [],
   "source": [
    "#empty vectors to store length, height, width, volume, box centre X Y and Z, frame type\n",
    "id_vec <- c()\n",
    "\n",
    "length_vec <- c()\n",
    "height_vec <- c()\n",
    "width_vec <- c()\n",
    "\n",
    "volume_vec <- c()\n",
    "\n",
    "centX_vec <- c()\n",
    "centY_vec <- c()\n",
    "centZ_vec <- c()\n",
    "\n",
    "frame_type_vec <- c()\n",
    "\n",
    "options(warn= -1)\n",
    "\n",
    "#loop over signer IDs calculating the above and adding to them to the vector \n",
    "\n",
    "for (s in seq(1:length(unique(dat$skeletonID)))) {\n",
    "    \n",
    "    iD <- as.character(unique(dat$skeletonID)[s])\n",
    "    \n",
    "    #grab this signer's utterance data\n",
    "    frame_type <- \"UTT\"\n",
    "    df <- subset(dat, skeletonID == iD & is_utterance == 1)\n",
    "    \n",
    "    #get mins and max wrist positions\n",
    "    minX <- min(c(df$WRIST_LEFT_X, df$WRIST_RIGHT_X))\n",
    "    minY <- min(c(df$WRIST_LEFT_Y, df$WRIST_RIGHT_Y))\n",
    "    minZ <- min(c(df$WRIST_LEFT_Z, df$WRIST_RIGHT_Z))\n",
    "        \n",
    "    maxX <- max(c(df$WRIST_LEFT_X, df$WRIST_RIGHT_X))\n",
    "    maxY <- max(c(df$WRIST_LEFT_Y, df$WRIST_RIGHT_Y))\n",
    "    maxZ <- max(c(df$WRIST_LEFT_Z, df$WRIST_RIGHT_Z))\n",
    "\n",
    "    #get box dimensions\n",
    "    length <- maxX - minX\n",
    "    height <- maxY - minY\n",
    "    width <- maxZ - minZ\n",
    "    \n",
    "    #get centre of the box\n",
    "    cX <- (minX+maxX)/2\n",
    "    cY <- (minY+maxY)/2\n",
    "    cZ <- (minZ+maxZ)/2\n",
    "    \n",
    "    #store in vectors\n",
    "    id_vec <- c(id_vec, iD)\n",
    "    length_vec <- c(length_vec, length)\n",
    "    height_vec <- c(height_vec, height)\n",
    "    width_vec <- c(width_vec, width)\n",
    "    centX_vec <- c(centX_vec, cX)\n",
    "    centY_vec <- c(centY_vec, cY)\n",
    "    centZ_vec <- c(centZ_vec, cZ)\n",
    "    frame_type_vec <-c(frame_type_vec, frame_type)\n",
    "    \n",
    "       #grab this signer's non-utterance data\n",
    "    \n",
    "    frame_type <- \"NON_UTT\"\n",
    "    df <- subset(dat, skeletonID == iD & is_utterance == 0)\n",
    "    \n",
    "    #get mins and max wrist positions\n",
    "    minX <- min(c(df$WRIST_LEFT_X, df$WRIST_RIGHT_X))\n",
    "    minY <- min(c(df$WRIST_LEFT_Y, df$WRIST_RIGHT_Y))\n",
    "    minZ <- min(c(df$WRIST_LEFT_Z, df$WRIST_RIGHT_Z))\n",
    "        \n",
    "    maxX <- max(c(df$WRIST_LEFT_X, df$WRIST_RIGHT_X))\n",
    "    maxY <- max(c(df$WRIST_LEFT_Y, df$WRIST_RIGHT_Y))\n",
    "    maxZ <- max(c(df$WRIST_LEFT_Z, df$WRIST_RIGHT_Z))\n",
    "\n",
    "    #get box dimensions\n",
    "    length <- maxX - minX\n",
    "    height <- maxY - minY\n",
    "    width <- maxZ - minZ\n",
    "    \n",
    "    #get centre of the box\n",
    "    cX <- (minX+maxX)/2\n",
    "    cY <- (minY+maxY)/2\n",
    "    cZ <- (minZ+maxZ)/2\n",
    "    \n",
    "    #store in vectors\n",
    "    id_vec <- c(id_vec, iD)\n",
    "    length_vec <- c(length_vec, length)\n",
    "    height_vec <- c(height_vec, height)\n",
    "    width_vec <- c(width_vec, width)\n",
    "    centX_vec <- c(centX_vec, cX)\n",
    "    centY_vec <- c(centY_vec, cY)\n",
    "    centZ_vec <- c(centZ_vec, cZ)\n",
    "    frame_type_vec <-c(frame_type_vec, frame_type)\n",
    "\n",
    "}\n",
    "\n",
    "bbox <- data.frame(Signer = substr(as.character(id_vec),2,nchar(as.character(id_vec))),\n",
    "                  length = length_vec,\n",
    "                  height = height_vec,\n",
    "                  width = width_vec,\n",
    "                  box_centre_X = centX_vec,\n",
    "                  box_centre_Y = centY_vec,\n",
    "                  box_centre_Z = centZ_vec,\n",
    "                  frame_type = frame_type_vec)\n",
    "\n",
    "bbox$volume_cm3 <- bbox$length*bbox$width*bbox$height\n",
    "bbox$volume_m3 <- bbox$volume_cm3*.000001\n"
   ]
  },
  {
   "cell_type": "code",
   "execution_count": 191,
   "metadata": {
    "collapsed": false
   },
   "outputs": [
    {
     "data": {
      "text/html": [
       "<table>\n",
       "<thead><tr><th scope=col>Signer</th><th scope=col>length</th><th scope=col>height</th><th scope=col>width</th><th scope=col>box_centre_X</th><th scope=col>box_centre_Y</th><th scope=col>box_centre_Z</th><th scope=col>frame_type</th><th scope=col>volume_cm3</th><th scope=col>volume_m3</th><th scope=col>cohort</th><th scope=col>YoE</th></tr></thead>\n",
       "<tbody>\n",
       "\t<tr><td>145      </td><td>74.97041 </td><td>73.30391 </td><td>59.26377 </td><td> 2.494496</td><td>18.06795 </td><td>25.07587 </td><td>UTT      </td><td>325691.4 </td><td>0.3256914</td><td>2        </td><td>1990     </td></tr>\n",
       "\t<tr><td>145      </td><td>68.30357 </td><td>73.11799 </td><td>55.75540 </td><td> 6.981250</td><td>18.62372 </td><td>18.66881 </td><td>NON_UTT  </td><td>278454.7 </td><td>0.2784547</td><td>2        </td><td>1990     </td></tr>\n",
       "\t<tr><td>158      </td><td>73.13590 </td><td>59.45122 </td><td>53.15132 </td><td>-2.990366</td><td>16.61637 </td><td>30.34246 </td><td>UTT      </td><td>231102.9 </td><td>0.2311029</td><td>2        </td><td>1986     </td></tr>\n",
       "\t<tr><td>158      </td><td>48.00842 </td><td>60.55909 </td><td>50.65950 </td><td> 1.598662</td><td>16.59169 </td><td>29.13044 </td><td>NON_UTT  </td><td>147284.7 </td><td>0.1472847</td><td>2        </td><td>1986     </td></tr>\n",
       "\t<tr><td>159      </td><td>78.39847 </td><td>60.72945 </td><td>49.86867 </td><td>-3.222411</td><td>21.69983 </td><td>32.39669 </td><td>UTT      </td><td>237429.5 </td><td>0.2374295</td><td>2        </td><td>1986     </td></tr>\n",
       "\t<tr><td>159      </td><td>99.31596 </td><td>85.97514 </td><td>56.54239 </td><td>-5.815334</td><td>12.91198 </td><td>20.19784 </td><td>NON_UTT  </td><td>482798.6 </td><td>0.4827986</td><td>2        </td><td>1986     </td></tr>\n",
       "</tbody>\n",
       "</table>\n"
      ],
      "text/latex": [
       "\\begin{tabular}{r|llllllllllll}\n",
       " Signer & length & height & width & box\\_centre\\_X & box\\_centre\\_Y & box\\_centre\\_Z & frame\\_type & volume\\_cm3 & volume\\_m3 & cohort & YoE\\\\\n",
       "\\hline\n",
       "\t 145       & 74.97041  & 73.30391  & 59.26377  &  2.494496 & 18.06795  & 25.07587  & UTT       & 325691.4  & 0.3256914 & 2         & 1990     \\\\\n",
       "\t 145       & 68.30357  & 73.11799  & 55.75540  &  6.981250 & 18.62372  & 18.66881  & NON\\_UTT & 278454.7  & 0.2784547 & 2         & 1990     \\\\\n",
       "\t 158       & 73.13590  & 59.45122  & 53.15132  & -2.990366 & 16.61637  & 30.34246  & UTT       & 231102.9  & 0.2311029 & 2         & 1986     \\\\\n",
       "\t 158       & 48.00842  & 60.55909  & 50.65950  &  1.598662 & 16.59169  & 29.13044  & NON\\_UTT & 147284.7  & 0.1472847 & 2         & 1986     \\\\\n",
       "\t 159       & 78.39847  & 60.72945  & 49.86867  & -3.222411 & 21.69983  & 32.39669  & UTT       & 237429.5  & 0.2374295 & 2         & 1986     \\\\\n",
       "\t 159       & 99.31596  & 85.97514  & 56.54239  & -5.815334 & 12.91198  & 20.19784  & NON\\_UTT & 482798.6  & 0.4827986 & 2         & 1986     \\\\\n",
       "\\end{tabular}\n"
      ],
      "text/markdown": [
       "\n",
       "Signer | length | height | width | box_centre_X | box_centre_Y | box_centre_Z | frame_type | volume_cm3 | volume_m3 | cohort | YoE | \n",
       "|---|---|---|---|---|---|\n",
       "| 145       | 74.97041  | 73.30391  | 59.26377  |  2.494496 | 18.06795  | 25.07587  | UTT       | 325691.4  | 0.3256914 | 2         | 1990      | \n",
       "| 145       | 68.30357  | 73.11799  | 55.75540  |  6.981250 | 18.62372  | 18.66881  | NON_UTT   | 278454.7  | 0.2784547 | 2         | 1990      | \n",
       "| 158       | 73.13590  | 59.45122  | 53.15132  | -2.990366 | 16.61637  | 30.34246  | UTT       | 231102.9  | 0.2311029 | 2         | 1986      | \n",
       "| 158       | 48.00842  | 60.55909  | 50.65950  |  1.598662 | 16.59169  | 29.13044  | NON_UTT   | 147284.7  | 0.1472847 | 2         | 1986      | \n",
       "| 159       | 78.39847  | 60.72945  | 49.86867  | -3.222411 | 21.69983  | 32.39669  | UTT       | 237429.5  | 0.2374295 | 2         | 1986      | \n",
       "| 159       | 99.31596  | 85.97514  | 56.54239  | -5.815334 | 12.91198  | 20.19784  | NON_UTT   | 482798.6  | 0.4827986 | 2         | 1986      | \n",
       "\n",
       "\n"
      ],
      "text/plain": [
       "  Signer length   height   width    box_centre_X box_centre_Y box_centre_Z\n",
       "1 145    74.97041 73.30391 59.26377  2.494496    18.06795     25.07587    \n",
       "2 145    68.30357 73.11799 55.75540  6.981250    18.62372     18.66881    \n",
       "3 158    73.13590 59.45122 53.15132 -2.990366    16.61637     30.34246    \n",
       "4 158    48.00842 60.55909 50.65950  1.598662    16.59169     29.13044    \n",
       "5 159    78.39847 60.72945 49.86867 -3.222411    21.69983     32.39669    \n",
       "6 159    99.31596 85.97514 56.54239 -5.815334    12.91198     20.19784    \n",
       "  frame_type volume_cm3 volume_m3 cohort YoE \n",
       "1 UTT        325691.4   0.3256914 2      1990\n",
       "2 NON_UTT    278454.7   0.2784547 2      1990\n",
       "3 UTT        231102.9   0.2311029 2      1986\n",
       "4 NON_UTT    147284.7   0.1472847 2      1986\n",
       "5 UTT        237429.5   0.2374295 2      1986\n",
       "6 NON_UTT    482798.6   0.4827986 2      1986"
      ]
     },
     "metadata": {},
     "output_type": "display_data"
    }
   ],
   "source": [
    "#merge with Year of Entry\n",
    "YoE <- read.csv(\"year_of_entry.csv\")\n",
    "bbox <- merge(bbox, YoE)\n",
    "\n",
    "head(bbox)"
   ]
  },
  {
   "cell_type": "code",
   "execution_count": 192,
   "metadata": {
    "collapsed": false
   },
   "outputs": [],
   "source": [
    "#re-name frame type levels\n",
    "#levels(bbox$frame_type)\n",
    "levels(bbox$frame_type) <- c(\"Non utterance\", \"Utterance\")"
   ]
  },
  {
   "cell_type": "code",
   "execution_count": 193,
   "metadata": {
    "collapsed": true
   },
   "outputs": [],
   "source": [
    "# save bounding box dataframe\n",
    "# write.csv(bbox,\"bounding_box_data.csv\")"
   ]
  },
  {
   "cell_type": "code",
   "execution_count": 207,
   "metadata": {
    "collapsed": false
   },
   "outputs": [
    {
     "name": "stdout",
     "output_type": "stream",
     "text": [
      "max volume:"
     ]
    },
    {
     "data": {
      "text/html": [
       "0.791527465682487"
      ],
      "text/latex": [
       "0.791527465682487"
      ],
      "text/markdown": [
       "0.791527465682487"
      ],
      "text/plain": [
       "[1] 0.7915275"
      ]
     },
     "metadata": {},
     "output_type": "display_data"
    },
    {
     "name": "stdout",
     "output_type": "stream",
     "text": [
      "min volume:"
     ]
    },
    {
     "data": {
      "text/html": [
       "0.0844648700837181"
      ],
      "text/latex": [
       "0.0844648700837181"
      ],
      "text/markdown": [
       "0.0844648700837181"
      ],
      "text/plain": [
       "[1] 0.08446487"
      ]
     },
     "metadata": {},
     "output_type": "display_data"
    }
   ],
   "source": [
    "cat(\"max volume:\")\n",
    "max(bbox$volume_m3)\n",
    "\n",
    "cat(\"min volume:\")\n",
    "min(bbox$volume_m3)"
   ]
  },
  {
   "cell_type": "code",
   "execution_count": 219,
   "metadata": {
    "collapsed": false
   },
   "outputs": [
    {
     "name": "stdout",
     "output_type": "stream",
     "text": [
      "bounding box by year of entry"
     ]
    },
    {
     "data": {},
     "metadata": {},
     "output_type": "display_data"
    },
    {
     "name": "stderr",
     "output_type": "stream",
     "text": [
      "Saving 7 x 7 in image\n"
     ]
    },
    {
     "data": {
      "image/png": "[encoded data removed]",
      "text/plain": [
       "plot without title"
      ]
     },
     "metadata": {},
     "output_type": "display_data"
    }
   ],
   "source": [
    "require(ggplot2)\n",
    "\n",
    "cat(\"bounding box by year of entry\")\n",
    "\n",
    "p <- ggplot(bbox, aes(x = YoE, y = volume_m3, color = frame_type))+\n",
    "geom_point(size = 2)+\n",
    "geom_smooth(method = \"lm\")+\n",
    "scale_x_continuous(breaks = seq(1970,2005,by = 5))+\n",
    "xlab(\"Year of entry\")+\n",
    "ylab(expression(paste(\"Volume \", m^{3})))+\n",
    "theme_light(base_size = 18)+\n",
    "theme(legend.title = element_blank(), aspect.ratio=1)\n",
    "\n",
    "p\n",
    "ggsave(\"plots/bounding_box_plot.jpeg\", p)"
   ]
  },
  {
   "cell_type": "code",
   "execution_count": 197,
   "metadata": {
    "collapsed": false
   },
   "outputs": [
    {
     "data": {
      "text/plain": [
       "\n",
       "Call:\n",
       "lm(formula = volume_m3 ~ YoE_centered + frame_type, data = bbox)\n",
       "\n",
       "Residuals:\n",
       "     Min       1Q   Median       3Q      Max \n",
       "-0.13535 -0.09000 -0.02560  0.03639  0.53031 \n",
       "\n",
       "Coefficients:\n",
       "                     Estimate Std. Error t value Pr(>|t|)    \n",
       "(Intercept)          0.261221   0.052651   4.961  2.4e-05 ***\n",
       "YoE_centered        -0.001924   0.002839  -0.678    0.503    \n",
       "frame_typeUtterance -0.036777   0.049630  -0.741    0.464    \n",
       "---\n",
       "Signif. codes:  0 ‘***’ 0.001 ‘**’ 0.01 ‘*’ 0.05 ‘.’ 0.1 ‘ ’ 1\n",
       "\n",
       "Residual standard error: 0.1447 on 31 degrees of freedom\n",
       "Multiple R-squared:  0.0315,\tAdjusted R-squared:  -0.03098 \n",
       "F-statistic: 0.5042 on 2 and 31 DF,  p-value: 0.6089\n"
      ]
     },
     "metadata": {},
     "output_type": "display_data"
    }
   ],
   "source": [
    "require(lme4)\n",
    "\n",
    "#predictor variable is centered so intercept is the earliest year of entry in our dataset. \n",
    "bbox$YoE_centered <- bbox$YoE - min(bbox$YoE)\n",
    "summary(lm(volume_m3 ~ YoE_centered + frame_type, data = bbox))"
   ]
  },
  {
   "cell_type": "markdown",
   "metadata": {},
   "source": [
    "## DISTANCE  (BODY-WRIST)"
   ]
  },
  {
   "cell_type": "code",
   "execution_count": 198,
   "metadata": {
    "collapsed": false
   },
   "outputs": [
    {
     "data": {
      "text/html": [
       "<ol class=list-inline>\n",
       "\t<li>'bounding_box_data.csv'</li>\n",
       "\t<li>'plots'</li>\n",
       "\t<li>'utterance_glosses.csv'</li>\n",
       "\t<li>'whole_session_data_scaled.csv'</li>\n",
       "\t<li>'whole_session_data_segmented.csv'</li>\n",
       "\t<li>'year_of_entry.csv'</li>\n",
       "</ol>\n"
      ],
      "text/latex": [
       "\\begin{enumerate*}\n",
       "\\item 'bounding\\_box\\_data.csv'\n",
       "\\item 'plots'\n",
       "\\item 'utterance\\_glosses.csv'\n",
       "\\item 'whole\\_session\\_data\\_scaled.csv'\n",
       "\\item 'whole\\_session\\_data\\_segmented.csv'\n",
       "\\item 'year\\_of\\_entry.csv'\n",
       "\\end{enumerate*}\n"
      ],
      "text/markdown": [
       "1. 'bounding_box_data.csv'\n",
       "2. 'plots'\n",
       "3. 'utterance_glosses.csv'\n",
       "4. 'whole_session_data_scaled.csv'\n",
       "5. 'whole_session_data_segmented.csv'\n",
       "6. 'year_of_entry.csv'\n",
       "\n",
       "\n"
      ],
      "text/plain": [
       "[1] \"bounding_box_data.csv\"            \"plots\"                           \n",
       "[3] \"utterance_glosses.csv\"            \"whole_session_data_scaled.csv\"   \n",
       "[5] \"whole_session_data_segmented.csv\" \"year_of_entry.csv\"               "
      ]
     },
     "metadata": {},
     "output_type": "display_data"
    }
   ],
   "source": [
    "try(setwd(\"/Users/Asha/Flaherty_Sato_Kirby_2020\"))\n",
    "list.files()"
   ]
  },
  {
   "cell_type": "code",
   "execution_count": 199,
   "metadata": {
    "collapsed": false
   },
   "outputs": [
    {
     "data": {
      "text/html": [
       "<table>\n",
       "<thead><tr><th scope=col>frame</th><th scope=col>id</th><th scope=col>X</th><th scope=col>TimeStamp</th><th scope=col>skeletonID</th><th scope=col>HIP_CENTER_X</th><th scope=col>HIP_CENTER_Y</th><th scope=col>HIP_CENTER_Z</th><th scope=col>HIP_CENTER_TRACKSTATE</th><th scope=col>SPINE_X</th><th scope=col>⋯</th><th scope=col>HANDTIP_RIGHT_Z</th><th scope=col>HANDTIP_RIGHT_TRACKSTATE</th><th scope=col>THUMB_RIGHT_X</th><th scope=col>THUMB_RIGHT_Y</th><th scope=col>THUMB_RIGHT_Z</th><th scope=col>THUMB_RIGHT_TRACKSTATE</th><th scope=col>ppt</th><th scope=col>utterance_number</th><th scope=col>is_utterance</th><th scope=col>segment_number</th></tr></thead>\n",
       "<tbody>\n",
       "\t<tr><td>1        </td><td>27       </td><td>95757    </td><td>     0   </td><td>p27      </td><td>1.0822322</td><td>47.14464 </td><td>12.35252 </td><td>2        </td><td>0.1706741</td><td>⋯        </td><td>65.84434 </td><td>2        </td><td>2.582145 </td><td>-6.50609 </td><td>55.91675 </td><td>2        </td><td>27       </td><td>NA       </td><td>0        </td><td>538      </td></tr>\n",
       "\t<tr><td>2        </td><td>27       </td><td>95758    </td><td>330000   </td><td>p27      </td><td>1.0267540</td><td>47.14464 </td><td>12.31889 </td><td>2        </td><td>0.1706741</td><td>⋯        </td><td>65.55738 </td><td>2        </td><td>2.582145 </td><td>-6.50609 </td><td>55.84663 </td><td>2        </td><td>27       </td><td>NA       </td><td>0        </td><td>538      </td></tr>\n",
       "\t<tr><td>3        </td><td>27       </td><td>95759    </td><td>660000   </td><td>p27      </td><td>0.9836366</td><td>47.14464 </td><td>12.34791 </td><td>2        </td><td>0.1830348</td><td>⋯        </td><td>65.25899 </td><td>2        </td><td>2.594505 </td><td>-6.50609 </td><td>55.77650 </td><td>2        </td><td>27       </td><td>NA       </td><td>0        </td><td>538      </td></tr>\n",
       "</tbody>\n",
       "</table>\n"
      ],
      "text/latex": [
       "\\begin{tabular}{r|lllllllllllllllllllllllllllllllllllllllllllllllllllllllllllllllllllllllllllllllllllllllllllllllllllllllllllll}\n",
       " frame & id & X & TimeStamp & skeletonID & HIP\\_CENTER\\_X & HIP\\_CENTER\\_Y & HIP\\_CENTER\\_Z & HIP\\_CENTER\\_TRACKSTATE & SPINE\\_X & ⋯ & HANDTIP\\_RIGHT\\_Z & HANDTIP\\_RIGHT\\_TRACKSTATE & THUMB\\_RIGHT\\_X & THUMB\\_RIGHT\\_Y & THUMB\\_RIGHT\\_Z & THUMB\\_RIGHT\\_TRACKSTATE & ppt & utterance\\_number & is\\_utterance & segment\\_number\\\\\n",
       "\\hline\n",
       "\t 1         & 27        & 95757     &      0    & p27       & 1.0822322 & 47.14464  & 12.35252  & 2         & 0.1706741 & ⋯         & 65.84434  & 2         & 2.582145  & -6.50609  & 55.91675  & 2         & 27        & NA        & 0         & 538      \\\\\n",
       "\t 2         & 27        & 95758     & 330000    & p27       & 1.0267540 & 47.14464  & 12.31889  & 2         & 0.1706741 & ⋯         & 65.55738  & 2         & 2.582145  & -6.50609  & 55.84663  & 2         & 27        & NA        & 0         & 538      \\\\\n",
       "\t 3         & 27        & 95759     & 660000    & p27       & 0.9836366 & 47.14464  & 12.34791  & 2         & 0.1830348 & ⋯         & 65.25899  & 2         & 2.594505  & -6.50609  & 55.77650  & 2         & 27        & NA        & 0         & 538      \\\\\n",
       "\\end{tabular}\n"
      ],
      "text/markdown": [
       "\n",
       "frame | id | X | TimeStamp | skeletonID | HIP_CENTER_X | HIP_CENTER_Y | HIP_CENTER_Z | HIP_CENTER_TRACKSTATE | SPINE_X | ⋯ | HANDTIP_RIGHT_Z | HANDTIP_RIGHT_TRACKSTATE | THUMB_RIGHT_X | THUMB_RIGHT_Y | THUMB_RIGHT_Z | THUMB_RIGHT_TRACKSTATE | ppt | utterance_number | is_utterance | segment_number | \n",
       "|---|---|---|\n",
       "| 1         | 27        | 95757     |      0    | p27       | 1.0822322 | 47.14464  | 12.35252  | 2         | 0.1706741 | ⋯         | 65.84434  | 2         | 2.582145  | -6.50609  | 55.91675  | 2         | 27        | NA        | 0         | 538       | \n",
       "| 2         | 27        | 95758     | 330000    | p27       | 1.0267540 | 47.14464  | 12.31889  | 2         | 0.1706741 | ⋯         | 65.55738  | 2         | 2.582145  | -6.50609  | 55.84663  | 2         | 27        | NA        | 0         | 538       | \n",
       "| 3         | 27        | 95759     | 660000    | p27       | 0.9836366 | 47.14464  | 12.34791  | 2         | 0.1830348 | ⋯         | 65.25899  | 2         | 2.594505  | -6.50609  | 55.77650  | 2         | 27        | NA        | 0         | 538       | \n",
       "\n",
       "\n"
      ],
      "text/plain": [
       "  frame id X     TimeStamp skeletonID HIP_CENTER_X HIP_CENTER_Y HIP_CENTER_Z\n",
       "1 1     27 95757      0    p27        1.0822322    47.14464     12.35252    \n",
       "2 2     27 95758 330000    p27        1.0267540    47.14464     12.31889    \n",
       "3 3     27 95759 660000    p27        0.9836366    47.14464     12.34791    \n",
       "  HIP_CENTER_TRACKSTATE SPINE_X   ⋯ HANDTIP_RIGHT_Z HANDTIP_RIGHT_TRACKSTATE\n",
       "1 2                     0.1706741 ⋯ 65.84434        2                       \n",
       "2 2                     0.1706741 ⋯ 65.55738        2                       \n",
       "3 2                     0.1830348 ⋯ 65.25899        2                       \n",
       "  THUMB_RIGHT_X THUMB_RIGHT_Y THUMB_RIGHT_Z THUMB_RIGHT_TRACKSTATE ppt\n",
       "1 2.582145      -6.50609      55.91675      2                      27 \n",
       "2 2.582145      -6.50609      55.84663      2                      27 \n",
       "3 2.594505      -6.50609      55.77650      2                      27 \n",
       "  utterance_number is_utterance segment_number\n",
       "1 NA               0            538           \n",
       "2 NA               0            538           \n",
       "3 NA               0            538           "
      ]
     },
     "metadata": {},
     "output_type": "display_data"
    }
   ],
   "source": [
    "body_data <- read.csv(\"whole_session_data_segmented.csv\")\n",
    "head(body_data,3)"
   ]
  },
  {
   "cell_type": "code",
   "execution_count": 200,
   "metadata": {
    "collapsed": false
   },
   "outputs": [
    {
     "data": {
      "text/html": [
       "<table>\n",
       "<thead><tr><th scope=col>frame</th><th scope=col>id</th><th scope=col>X</th><th scope=col>TimeStamp</th><th scope=col>skeletonID</th><th scope=col>HIP_CENTER_X</th><th scope=col>HIP_CENTER_Y</th><th scope=col>HIP_CENTER_Z</th><th scope=col>HIP_CENTER_TRACKSTATE</th><th scope=col>SPINE_X</th><th scope=col>⋯</th><th scope=col>THUMB_RIGHT_X</th><th scope=col>THUMB_RIGHT_Y</th><th scope=col>THUMB_RIGHT_Z</th><th scope=col>THUMB_RIGHT_TRACKSTATE</th><th scope=col>ppt</th><th scope=col>utterance_number</th><th scope=col>is_utterance</th><th scope=col>segment_number</th><th scope=col>left_body_wrist_dist</th><th scope=col>right_body_wrist_dist</th></tr></thead>\n",
       "<tbody>\n",
       "\t<tr><td>1        </td><td>27       </td><td>95757    </td><td>     0   </td><td>p27      </td><td>1.0822322</td><td>47.14464 </td><td>12.35252 </td><td>2        </td><td>0.1706741</td><td>⋯        </td><td>2.582145 </td><td>-6.50609 </td><td>55.91675 </td><td>2        </td><td>27       </td><td>NA       </td><td>0        </td><td>538      </td><td>52.41598 </td><td>42.39771 </td></tr>\n",
       "\t<tr><td>2        </td><td>27       </td><td>95758    </td><td>330000   </td><td>p27      </td><td>1.0267540</td><td>47.14464 </td><td>12.31889 </td><td>2        </td><td>0.1706741</td><td>⋯        </td><td>2.582145 </td><td>-6.50609 </td><td>55.84663 </td><td>2        </td><td>27       </td><td>NA       </td><td>0        </td><td>538      </td><td>51.76476 </td><td>42.32824 </td></tr>\n",
       "\t<tr><td>3        </td><td>27       </td><td>95759    </td><td>660000   </td><td>p27      </td><td>0.9836366</td><td>47.14464 </td><td>12.34791 </td><td>2        </td><td>0.1830348</td><td>⋯        </td><td>2.594505 </td><td>-6.50609 </td><td>55.77650 </td><td>2        </td><td>27       </td><td>NA       </td><td>0        </td><td>538      </td><td>51.18707 </td><td>42.26046 </td></tr>\n",
       "</tbody>\n",
       "</table>\n"
      ],
      "text/latex": [
       "\\begin{tabular}{r|lllllllllllllllllllllllllllllllllllllllllllllllllllllllllllllllllllllllllllllllllllllllllllllllllllllllllllllll}\n",
       " frame & id & X & TimeStamp & skeletonID & HIP\\_CENTER\\_X & HIP\\_CENTER\\_Y & HIP\\_CENTER\\_Z & HIP\\_CENTER\\_TRACKSTATE & SPINE\\_X & ⋯ & THUMB\\_RIGHT\\_X & THUMB\\_RIGHT\\_Y & THUMB\\_RIGHT\\_Z & THUMB\\_RIGHT\\_TRACKSTATE & ppt & utterance\\_number & is\\_utterance & segment\\_number & left\\_body\\_wrist\\_dist & right\\_body\\_wrist\\_dist\\\\\n",
       "\\hline\n",
       "\t 1         & 27        & 95757     &      0    & p27       & 1.0822322 & 47.14464  & 12.35252  & 2         & 0.1706741 & ⋯         & 2.582145  & -6.50609  & 55.91675  & 2         & 27        & NA        & 0         & 538       & 52.41598  & 42.39771 \\\\\n",
       "\t 2         & 27        & 95758     & 330000    & p27       & 1.0267540 & 47.14464  & 12.31889  & 2         & 0.1706741 & ⋯         & 2.582145  & -6.50609  & 55.84663  & 2         & 27        & NA        & 0         & 538       & 51.76476  & 42.32824 \\\\\n",
       "\t 3         & 27        & 95759     & 660000    & p27       & 0.9836366 & 47.14464  & 12.34791  & 2         & 0.1830348 & ⋯         & 2.594505  & -6.50609  & 55.77650  & 2         & 27        & NA        & 0         & 538       & 51.18707  & 42.26046 \\\\\n",
       "\\end{tabular}\n"
      ],
      "text/markdown": [
       "\n",
       "frame | id | X | TimeStamp | skeletonID | HIP_CENTER_X | HIP_CENTER_Y | HIP_CENTER_Z | HIP_CENTER_TRACKSTATE | SPINE_X | ⋯ | THUMB_RIGHT_X | THUMB_RIGHT_Y | THUMB_RIGHT_Z | THUMB_RIGHT_TRACKSTATE | ppt | utterance_number | is_utterance | segment_number | left_body_wrist_dist | right_body_wrist_dist | \n",
       "|---|---|---|\n",
       "| 1         | 27        | 95757     |      0    | p27       | 1.0822322 | 47.14464  | 12.35252  | 2         | 0.1706741 | ⋯         | 2.582145  | -6.50609  | 55.91675  | 2         | 27        | NA        | 0         | 538       | 52.41598  | 42.39771  | \n",
       "| 2         | 27        | 95758     | 330000    | p27       | 1.0267540 | 47.14464  | 12.31889  | 2         | 0.1706741 | ⋯         | 2.582145  | -6.50609  | 55.84663  | 2         | 27        | NA        | 0         | 538       | 51.76476  | 42.32824  | \n",
       "| 3         | 27        | 95759     | 660000    | p27       | 0.9836366 | 47.14464  | 12.34791  | 2         | 0.1830348 | ⋯         | 2.594505  | -6.50609  | 55.77650  | 2         | 27        | NA        | 0         | 538       | 51.18707  | 42.26046  | \n",
       "\n",
       "\n"
      ],
      "text/plain": [
       "  frame id X     TimeStamp skeletonID HIP_CENTER_X HIP_CENTER_Y HIP_CENTER_Z\n",
       "1 1     27 95757      0    p27        1.0822322    47.14464     12.35252    \n",
       "2 2     27 95758 330000    p27        1.0267540    47.14464     12.31889    \n",
       "3 3     27 95759 660000    p27        0.9836366    47.14464     12.34791    \n",
       "  HIP_CENTER_TRACKSTATE SPINE_X   ⋯ THUMB_RIGHT_X THUMB_RIGHT_Y THUMB_RIGHT_Z\n",
       "1 2                     0.1706741 ⋯ 2.582145      -6.50609      55.91675     \n",
       "2 2                     0.1706741 ⋯ 2.582145      -6.50609      55.84663     \n",
       "3 2                     0.1830348 ⋯ 2.594505      -6.50609      55.77650     \n",
       "  THUMB_RIGHT_TRACKSTATE ppt utterance_number is_utterance segment_number\n",
       "1 2                      27  NA               0            538           \n",
       "2 2                      27  NA               0            538           \n",
       "3 2                      27  NA               0            538           \n",
       "  left_body_wrist_dist right_body_wrist_dist\n",
       "1 52.41598             42.39771             \n",
       "2 51.76476             42.32824             \n",
       "3 51.18707             42.26046             "
      ]
     },
     "metadata": {},
     "output_type": "display_data"
    }
   ],
   "source": [
    "# body-wrist distance is calculated from the origin (0,0,0) of the body data. \n",
    "# This corresponds to the Kinect SHOULDER_CENTER tracked joint between the shoulders.\n",
    "\n",
    "# Pythagoras -the distance d between two points a and b in 3D space is given by\n",
    "# d = sqrt((ax-bx)^2+(ay-by)^2+(az-bz)^2) \n",
    "\n",
    "\n",
    "\n",
    "body_data$left_body_wrist_dist <- sqrt( (body_data$WRIST_LEFT_X - body_data$SHOULDER_CENTER_X)^2 +\n",
    "                                      (body_data$WRIST_LEFT_Y - body_data$SHOULDER_CENTER_Y)^2+\n",
    "                                      (body_data$WRIST_LEFT_Z - body_data$SHOULDER_CENTER_Z)^2 )\n",
    "\n",
    "body_data$right_body_wrist_dist <- sqrt( (body_data$WRIST_RIGHT_X - body_data$SHOULDER_CENTER_X)^2 +\n",
    "                                      (body_data$WRIST_RIGHT_Y - body_data$SHOULDER_CENTER_Y)^2+\n",
    "                                      (body_data$WRIST_RIGHT_Z - body_data$SHOULDER_CENTER_Z)^2 )\n",
    "\n",
    "\n",
    "\n",
    "head(body_data,3)"
   ]
  },
  {
   "cell_type": "code",
   "execution_count": 201,
   "metadata": {
    "collapsed": false
   },
   "outputs": [
    {
     "data": {
      "text/html": [
       "<table>\n",
       "<thead><tr><th scope=col>frame</th><th scope=col>id</th><th scope=col>X</th><th scope=col>TimeStamp</th><th scope=col>skeletonID</th><th scope=col>HIP_CENTER_X</th><th scope=col>HIP_CENTER_Y</th><th scope=col>HIP_CENTER_Z</th><th scope=col>HIP_CENTER_TRACKSTATE</th><th scope=col>SPINE_X</th><th scope=col>⋯</th><th scope=col>THUMB_RIGHT_Y</th><th scope=col>THUMB_RIGHT_Z</th><th scope=col>THUMB_RIGHT_TRACKSTATE</th><th scope=col>ppt</th><th scope=col>utterance_number</th><th scope=col>is_utterance</th><th scope=col>segment_number</th><th scope=col>left_body_wrist_dist</th><th scope=col>right_body_wrist_dist</th><th scope=col>mean_body_wrist_dist</th></tr></thead>\n",
       "<tbody>\n",
       "\t<tr><td>1        </td><td>27       </td><td>95757    </td><td>     0   </td><td>p27      </td><td>1.0822322</td><td>47.14464 </td><td>12.35252 </td><td>2        </td><td>0.1706741</td><td>⋯        </td><td>-6.50609 </td><td>55.91675 </td><td>2        </td><td>27       </td><td>NA       </td><td>0        </td><td>538      </td><td>52.41598 </td><td>42.39771 </td><td>47.40684 </td></tr>\n",
       "\t<tr><td>2        </td><td>27       </td><td>95758    </td><td>330000   </td><td>p27      </td><td>1.0267540</td><td>47.14464 </td><td>12.31889 </td><td>2        </td><td>0.1706741</td><td>⋯        </td><td>-6.50609 </td><td>55.84663 </td><td>2        </td><td>27       </td><td>NA       </td><td>0        </td><td>538      </td><td>51.76476 </td><td>42.32824 </td><td>47.04650 </td></tr>\n",
       "\t<tr><td>3        </td><td>27       </td><td>95759    </td><td>660000   </td><td>p27      </td><td>0.9836366</td><td>47.14464 </td><td>12.34791 </td><td>2        </td><td>0.1830348</td><td>⋯        </td><td>-6.50609 </td><td>55.77650 </td><td>2        </td><td>27       </td><td>NA       </td><td>0        </td><td>538      </td><td>51.18707 </td><td>42.26046 </td><td>46.72376 </td></tr>\n",
       "</tbody>\n",
       "</table>\n"
      ],
      "text/latex": [
       "\\begin{tabular}{r|llllllllllllllllllllllllllllllllllllllllllllllllllllllllllllllllllllllllllllllllllllllllllllllllllllllllllllllll}\n",
       " frame & id & X & TimeStamp & skeletonID & HIP\\_CENTER\\_X & HIP\\_CENTER\\_Y & HIP\\_CENTER\\_Z & HIP\\_CENTER\\_TRACKSTATE & SPINE\\_X & ⋯ & THUMB\\_RIGHT\\_Y & THUMB\\_RIGHT\\_Z & THUMB\\_RIGHT\\_TRACKSTATE & ppt & utterance\\_number & is\\_utterance & segment\\_number & left\\_body\\_wrist\\_dist & right\\_body\\_wrist\\_dist & mean\\_body\\_wrist\\_dist\\\\\n",
       "\\hline\n",
       "\t 1         & 27        & 95757     &      0    & p27       & 1.0822322 & 47.14464  & 12.35252  & 2         & 0.1706741 & ⋯         & -6.50609  & 55.91675  & 2         & 27        & NA        & 0         & 538       & 52.41598  & 42.39771  & 47.40684 \\\\\n",
       "\t 2         & 27        & 95758     & 330000    & p27       & 1.0267540 & 47.14464  & 12.31889  & 2         & 0.1706741 & ⋯         & -6.50609  & 55.84663  & 2         & 27        & NA        & 0         & 538       & 51.76476  & 42.32824  & 47.04650 \\\\\n",
       "\t 3         & 27        & 95759     & 660000    & p27       & 0.9836366 & 47.14464  & 12.34791  & 2         & 0.1830348 & ⋯         & -6.50609  & 55.77650  & 2         & 27        & NA        & 0         & 538       & 51.18707  & 42.26046  & 46.72376 \\\\\n",
       "\\end{tabular}\n"
      ],
      "text/markdown": [
       "\n",
       "frame | id | X | TimeStamp | skeletonID | HIP_CENTER_X | HIP_CENTER_Y | HIP_CENTER_Z | HIP_CENTER_TRACKSTATE | SPINE_X | ⋯ | THUMB_RIGHT_Y | THUMB_RIGHT_Z | THUMB_RIGHT_TRACKSTATE | ppt | utterance_number | is_utterance | segment_number | left_body_wrist_dist | right_body_wrist_dist | mean_body_wrist_dist | \n",
       "|---|---|---|\n",
       "| 1         | 27        | 95757     |      0    | p27       | 1.0822322 | 47.14464  | 12.35252  | 2         | 0.1706741 | ⋯         | -6.50609  | 55.91675  | 2         | 27        | NA        | 0         | 538       | 52.41598  | 42.39771  | 47.40684  | \n",
       "| 2         | 27        | 95758     | 330000    | p27       | 1.0267540 | 47.14464  | 12.31889  | 2         | 0.1706741 | ⋯         | -6.50609  | 55.84663  | 2         | 27        | NA        | 0         | 538       | 51.76476  | 42.32824  | 47.04650  | \n",
       "| 3         | 27        | 95759     | 660000    | p27       | 0.9836366 | 47.14464  | 12.34791  | 2         | 0.1830348 | ⋯         | -6.50609  | 55.77650  | 2         | 27        | NA        | 0         | 538       | 51.18707  | 42.26046  | 46.72376  | \n",
       "\n",
       "\n"
      ],
      "text/plain": [
       "  frame id X     TimeStamp skeletonID HIP_CENTER_X HIP_CENTER_Y HIP_CENTER_Z\n",
       "1 1     27 95757      0    p27        1.0822322    47.14464     12.35252    \n",
       "2 2     27 95758 330000    p27        1.0267540    47.14464     12.31889    \n",
       "3 3     27 95759 660000    p27        0.9836366    47.14464     12.34791    \n",
       "  HIP_CENTER_TRACKSTATE SPINE_X   ⋯ THUMB_RIGHT_Y THUMB_RIGHT_Z\n",
       "1 2                     0.1706741 ⋯ -6.50609      55.91675     \n",
       "2 2                     0.1706741 ⋯ -6.50609      55.84663     \n",
       "3 2                     0.1830348 ⋯ -6.50609      55.77650     \n",
       "  THUMB_RIGHT_TRACKSTATE ppt utterance_number is_utterance segment_number\n",
       "1 2                      27  NA               0            538           \n",
       "2 2                      27  NA               0            538           \n",
       "3 2                      27  NA               0            538           \n",
       "  left_body_wrist_dist right_body_wrist_dist mean_body_wrist_dist\n",
       "1 52.41598             42.39771              47.40684            \n",
       "2 51.76476             42.32824              47.04650            \n",
       "3 51.18707             42.26046              46.72376            "
      ]
     },
     "metadata": {},
     "output_type": "display_data"
    }
   ],
   "source": [
    "# get average distance of the wrists from origin\n",
    "\n",
    "body_data$mean_body_wrist_dist <-rowMeans(body_data[,c(\"left_body_wrist_dist\", \"right_body_wrist_dist\")])\n",
    "head(body_data,3)"
   ]
  },
  {
   "cell_type": "code",
   "execution_count": 202,
   "metadata": {
    "collapsed": false
   },
   "outputs": [
    {
     "data": {
      "text/html": [
       "<table>\n",
       "<thead><tr><th scope=col>Signer</th><th scope=col>segment_number</th><th scope=col>left_body_wrist_dist</th><th scope=col>right_body_wrist_dist</th><th scope=col>mean_body_wrist_dist</th><th scope=col>is_utterance</th></tr></thead>\n",
       "<tbody>\n",
       "\t<tr><td>145      </td><td>1        </td><td>39.86827 </td><td>39.19539 </td><td>39.53183 </td><td>Utterance</td></tr>\n",
       "\t<tr><td>145      </td><td>2        </td><td>40.21379 </td><td>45.15840 </td><td>42.68610 </td><td>Utterance</td></tr>\n",
       "\t<tr><td>145      </td><td>3        </td><td>39.76624 </td><td>41.71999 </td><td>40.74311 </td><td>Utterance</td></tr>\n",
       "</tbody>\n",
       "</table>\n"
      ],
      "text/latex": [
       "\\begin{tabular}{r|llllll}\n",
       " Signer & segment\\_number & left\\_body\\_wrist\\_dist & right\\_body\\_wrist\\_dist & mean\\_body\\_wrist\\_dist & is\\_utterance\\\\\n",
       "\\hline\n",
       "\t 145       & 1         & 39.86827  & 39.19539  & 39.53183  & Utterance\\\\\n",
       "\t 145       & 2         & 40.21379  & 45.15840  & 42.68610  & Utterance\\\\\n",
       "\t 145       & 3         & 39.76624  & 41.71999  & 40.74311  & Utterance\\\\\n",
       "\\end{tabular}\n"
      ],
      "text/markdown": [
       "\n",
       "Signer | segment_number | left_body_wrist_dist | right_body_wrist_dist | mean_body_wrist_dist | is_utterance | \n",
       "|---|---|---|\n",
       "| 145       | 1         | 39.86827  | 39.19539  | 39.53183  | Utterance | \n",
       "| 145       | 2         | 40.21379  | 45.15840  | 42.68610  | Utterance | \n",
       "| 145       | 3         | 39.76624  | 41.71999  | 40.74311  | Utterance | \n",
       "\n",
       "\n"
      ],
      "text/plain": [
       "  Signer segment_number left_body_wrist_dist right_body_wrist_dist\n",
       "1 145    1              39.86827             39.19539             \n",
       "2 145    2              40.21379             45.15840             \n",
       "3 145    3              39.76624             41.71999             \n",
       "  mean_body_wrist_dist is_utterance\n",
       "1 39.53183             Utterance   \n",
       "2 42.68610             Utterance   \n",
       "3 40.74311             Utterance   "
      ]
     },
     "metadata": {},
     "output_type": "display_data"
    },
    {
     "data": {
      "text/html": [
       "<table>\n",
       "<thead><tr><th></th><th scope=col>Signer</th><th scope=col>segment_number</th><th scope=col>left_body_wrist_dist</th><th scope=col>right_body_wrist_dist</th><th scope=col>mean_body_wrist_dist</th><th scope=col>is_utterance</th></tr></thead>\n",
       "<tbody>\n",
       "\t<tr><th scope=row>1148</th><td>27           </td><td>570          </td><td>48.67766     </td><td>45.08866     </td><td>46.88316     </td><td>Non Utterance</td></tr>\n",
       "\t<tr><th scope=row>1149</th><td>27           </td><td>571          </td><td>45.27871     </td><td>46.66398     </td><td>45.97134     </td><td>Non Utterance</td></tr>\n",
       "\t<tr><th scope=row>1150</th><td>36           </td><td>571          </td><td>52.26955     </td><td>53.52085     </td><td>52.89520     </td><td>Non Utterance</td></tr>\n",
       "</tbody>\n",
       "</table>\n"
      ],
      "text/latex": [
       "\\begin{tabular}{r|llllll}\n",
       "  & Signer & segment\\_number & left\\_body\\_wrist\\_dist & right\\_body\\_wrist\\_dist & mean\\_body\\_wrist\\_dist & is\\_utterance\\\\\n",
       "\\hline\n",
       "\t1148 & 27            & 570           & 48.67766      & 45.08866      & 46.88316      & Non Utterance\\\\\n",
       "\t1149 & 27            & 571           & 45.27871      & 46.66398      & 45.97134      & Non Utterance\\\\\n",
       "\t1150 & 36            & 571           & 52.26955      & 53.52085      & 52.89520      & Non Utterance\\\\\n",
       "\\end{tabular}\n"
      ],
      "text/markdown": [
       "\n",
       "| <!--/--> | Signer | segment_number | left_body_wrist_dist | right_body_wrist_dist | mean_body_wrist_dist | is_utterance | \n",
       "|---|---|---|\n",
       "| 1148 | 27            | 570           | 48.67766      | 45.08866      | 46.88316      | Non Utterance | \n",
       "| 1149 | 27            | 571           | 45.27871      | 46.66398      | 45.97134      | Non Utterance | \n",
       "| 1150 | 36            | 571           | 52.26955      | 53.52085      | 52.89520      | Non Utterance | \n",
       "\n",
       "\n"
      ],
      "text/plain": [
       "     Signer segment_number left_body_wrist_dist right_body_wrist_dist\n",
       "1148 27     570            48.67766             45.08866             \n",
       "1149 27     571            45.27871             46.66398             \n",
       "1150 36     571            52.26955             53.52085             \n",
       "     mean_body_wrist_dist is_utterance \n",
       "1148 46.88316             Non Utterance\n",
       "1149 45.97134             Non Utterance\n",
       "1150 52.89520             Non Utterance"
      ]
     },
     "metadata": {},
     "output_type": "display_data"
    }
   ],
   "source": [
    "# aggregate body wrist distance by segment\n",
    "\n",
    "body_data$is_utterance <- as.factor(body_data$is_utterance)\n",
    "\n",
    "#utterance data \n",
    "utterance_distances <- aggregate(subset(body_data, is_utterance == 1)[,c(\"left_body_wrist_dist\", \"right_body_wrist_dist\", \"mean_body_wrist_dist\")], by = list(subset(body_data, is_utterance == 1)$id, subset(body_data, is_utterance == 1)$segment_number), FUN = mean)\n",
    "colnames(utterance_distances) <- c(\"Signer\", \"segment_number\", \"left_body_wrist_dist\", \"right_body_wrist_dist\", \"mean_body_wrist_dist\")\n",
    "utterance_distances$is_utterance <- \"Utterance\"\n",
    "# head(utterance_distances)\n",
    "# nrow(utterance_distances)\n",
    "\n",
    "#non-utterance data\n",
    "non_utterance_distances <- aggregate(subset(body_data, is_utterance == 0)[,c(\"left_body_wrist_dist\", \"right_body_wrist_dist\", \"mean_body_wrist_dist\")], by = list(subset(body_data, is_utterance == 0)$id, subset(body_data, is_utterance == 0)$segment_number), FUN = mean)\n",
    "colnames(non_utterance_distances) <- c(\"Signer\", \"segment_number\", \"left_body_wrist_dist\", \"right_body_wrist_dist\", \"mean_body_wrist_dist\")\n",
    "non_utterance_distances$is_utterance <- \"Non Utterance\"\n",
    "# head(non_utterance_distances)\n",
    "# nrow(non_utterance_distances)\n",
    "\n",
    "#join\n",
    "body_wrist_distances <- rbind(utterance_distances, non_utterance_distances)\n",
    "head(body_wrist_distances,3)\n",
    "tail(body_wrist_distances, 3)"
   ]
  },
  {
   "cell_type": "code",
   "execution_count": 203,
   "metadata": {
    "collapsed": false
   },
   "outputs": [
    {
     "data": {
      "text/html": [
       "<table>\n",
       "<thead><tr><th scope=col>Signer</th><th scope=col>cohort</th><th scope=col>YoE</th><th scope=col>segment_number</th><th scope=col>left_body_wrist_dist</th><th scope=col>right_body_wrist_dist</th><th scope=col>mean_body_wrist_dist</th><th scope=col>is_utterance</th></tr></thead>\n",
       "<tbody>\n",
       "\t<tr><td>27           </td><td>1            </td><td>1977         </td><td>557          </td><td>52.16559     </td><td>50.46256     </td><td>51.31407     </td><td>Non Utterance</td></tr>\n",
       "\t<tr><td>27           </td><td>1            </td><td>1977         </td><td>571          </td><td>41.82662     </td><td>44.43284     </td><td>43.12973     </td><td>Utterance    </td></tr>\n",
       "\t<tr><td>27           </td><td>1            </td><td>1977         </td><td>539          </td><td>51.37429     </td><td>49.12567     </td><td>50.24998     </td><td>Utterance    </td></tr>\n",
       "</tbody>\n",
       "</table>\n"
      ],
      "text/latex": [
       "\\begin{tabular}{r|llllllll}\n",
       " Signer & cohort & YoE & segment\\_number & left\\_body\\_wrist\\_dist & right\\_body\\_wrist\\_dist & mean\\_body\\_wrist\\_dist & is\\_utterance\\\\\n",
       "\\hline\n",
       "\t 27            & 1             & 1977          & 557           & 52.16559      & 50.46256      & 51.31407      & Non Utterance\\\\\n",
       "\t 27            & 1             & 1977          & 571           & 41.82662      & 44.43284      & 43.12973      & Utterance    \\\\\n",
       "\t 27            & 1             & 1977          & 539           & 51.37429      & 49.12567      & 50.24998      & Utterance    \\\\\n",
       "\\end{tabular}\n"
      ],
      "text/markdown": [
       "\n",
       "Signer | cohort | YoE | segment_number | left_body_wrist_dist | right_body_wrist_dist | mean_body_wrist_dist | is_utterance | \n",
       "|---|---|---|\n",
       "| 27            | 1             | 1977          | 557           | 52.16559      | 50.46256      | 51.31407      | Non Utterance | \n",
       "| 27            | 1             | 1977          | 571           | 41.82662      | 44.43284      | 43.12973      | Utterance     | \n",
       "| 27            | 1             | 1977          | 539           | 51.37429      | 49.12567      | 50.24998      | Utterance     | \n",
       "\n",
       "\n"
      ],
      "text/plain": [
       "  Signer cohort YoE  segment_number left_body_wrist_dist right_body_wrist_dist\n",
       "1 27     1      1977 557            52.16559             50.46256             \n",
       "2 27     1      1977 571            41.82662             44.43284             \n",
       "3 27     1      1977 539            51.37429             49.12567             \n",
       "  mean_body_wrist_dist is_utterance \n",
       "1 51.31407             Non Utterance\n",
       "2 43.12973             Utterance    \n",
       "3 50.24998             Utterance    "
      ]
     },
     "metadata": {},
     "output_type": "display_data"
    }
   ],
   "source": [
    "#merge with Year of Entry\n",
    "YoE <- read.csv(\"year_of_entry.csv\")\n",
    "body_wrist_distances <- merge(YoE,body_wrist_distances)\n",
    "head(body_wrist_distances,3)"
   ]
  },
  {
   "cell_type": "code",
   "execution_count": 209,
   "metadata": {
    "collapsed": true
   },
   "outputs": [],
   "source": [
    "#write.csv(body_wrist_distances, \"body_wrist_distances.csv\")"
   ]
  },
  {
   "cell_type": "code",
   "execution_count": 211,
   "metadata": {
    "collapsed": false
   },
   "outputs": [
    {
     "name": "stdout",
     "output_type": "stream",
     "text": [
      "min distance:"
     ]
    },
    {
     "data": {
      "text/html": [
       "23.1170431278505"
      ],
      "text/latex": [
       "23.1170431278505"
      ],
      "text/markdown": [
       "23.1170431278505"
      ],
      "text/plain": [
       "[1] 23.11704"
      ]
     },
     "metadata": {},
     "output_type": "display_data"
    },
    {
     "name": "stdout",
     "output_type": "stream",
     "text": [
      "max distance:"
     ]
    },
    {
     "data": {
      "text/html": [
       "56.5472237079473"
      ],
      "text/latex": [
       "56.5472237079473"
      ],
      "text/markdown": [
       "56.5472237079473"
      ],
      "text/plain": [
       "[1] 56.54722"
      ]
     },
     "metadata": {},
     "output_type": "display_data"
    }
   ],
   "source": [
    "cat(\"min distance:\")\n",
    "min(body_wrist_distances$mean_body_wrist_dist)\n",
    "\n",
    "cat(\"max distance:\")\n",
    "max(body_wrist_distances$mean_body_wrist_dist)"
   ]
  },
  {
   "cell_type": "code",
   "execution_count": 224,
   "metadata": {
    "collapsed": false
   },
   "outputs": [
    {
     "data": {
      "text/html": [
       "<table>\n",
       "<thead><tr><th></th><th scope=col>Signer</th><th scope=col>cohort</th><th scope=col>YoE</th><th scope=col>segment_number</th><th scope=col>left_body_wrist_dist</th><th scope=col>right_body_wrist_dist</th><th scope=col>mean_body_wrist_dist</th><th scope=col>is_utterance</th><th scope=col>YoE_centered</th></tr></thead>\n",
       "<tbody>\n",
       "\t<tr><th scope=row>168</th><td> 41          </td><td>1            </td><td>1974         </td><td>302          </td><td>23.88060     </td><td>22.35349     </td><td>23.11704     </td><td>Non Utterance</td><td> 0           </td></tr>\n",
       "\t<tr><th scope=row>1068</th><td>420          </td><td>3            </td><td>1999         </td><td>259          </td><td>21.50735     </td><td>25.08338     </td><td>23.29536     </td><td>Utterance    </td><td>25           </td></tr>\n",
       "\t<tr><th scope=row>520</th><td>191          </td><td>1            </td><td>1983         </td><td>119          </td><td>20.07427     </td><td>29.26891     </td><td>24.67159     </td><td>Utterance    </td><td> 9           </td></tr>\n",
       "\t<tr><th scope=row>691</th><td>264          </td><td>3            </td><td>1994         </td><td>371          </td><td>28.26216     </td><td>28.93004     </td><td>28.59610     </td><td>Utterance    </td><td>20           </td></tr>\n",
       "\t<tr><th scope=row>717</th><td>264          </td><td>3            </td><td>1994         </td><td>385          </td><td>28.14682     </td><td>29.53658     </td><td>28.84170     </td><td>Utterance    </td><td>20           </td></tr>\n",
       "\t<tr><th scope=row>1028</th><td>420          </td><td>3            </td><td>1999         </td><td>248          </td><td>25.40445     </td><td>33.31104     </td><td>29.35774     </td><td>Utterance    </td><td>25           </td></tr>\n",
       "\t<tr><th scope=row>699</th><td>264          </td><td>3            </td><td>1994         </td><td>392          </td><td>25.43746     </td><td>33.33454     </td><td>29.38600     </td><td>Utterance    </td><td>20           </td></tr>\n",
       "\t<tr><th scope=row>683</th><td>264          </td><td>3            </td><td>1994         </td><td>372          </td><td>27.96448     </td><td>31.42671     </td><td>29.69559     </td><td>Utterance    </td><td>20           </td></tr>\n",
       "\t<tr><th scope=row>675</th><td>264          </td><td>3            </td><td>1994         </td><td>374          </td><td>29.49257     </td><td>30.11337     </td><td>29.80297     </td><td>Utterance    </td><td>20           </td></tr>\n",
       "\t<tr><th scope=row>685</th><td>264          </td><td>3            </td><td>1994         </td><td>391          </td><td>30.18796     </td><td>30.05726     </td><td>30.12261     </td><td>Utterance    </td><td>20           </td></tr>\n",
       "\t<tr><th scope=row>827</th><td>377          </td><td>3            </td><td>1997         </td><td>179          </td><td>31.70418     </td><td>28.66277     </td><td>30.18347     </td><td>Utterance    </td><td>23           </td></tr>\n",
       "\t<tr><th scope=row>709</th><td>264          </td><td>3            </td><td>1994         </td><td>389          </td><td>28.65910     </td><td>31.93647     </td><td>30.29779     </td><td>Utterance    </td><td>20           </td></tr>\n",
       "\t<tr><th scope=row>815</th><td>377          </td><td>3            </td><td>1997         </td><td>182          </td><td>32.96994     </td><td>28.09869     </td><td>30.53432     </td><td>Utterance    </td><td>23           </td></tr>\n",
       "\t<tr><th scope=row>812</th><td>377          </td><td>3            </td><td>1997         </td><td>165          </td><td>34.80437     </td><td>26.36691     </td><td>30.58564     </td><td>Utterance    </td><td>23           </td></tr>\n",
       "\t<tr><th scope=row>1066</th><td>420          </td><td>3            </td><td>1999         </td><td>230          </td><td>29.97067     </td><td>31.33859     </td><td>30.65463     </td><td>Utterance    </td><td>25           </td></tr>\n",
       "\t<tr><th scope=row>587</th><td>200          </td><td>1            </td><td>1974         </td><td>145          </td><td>32.21160     </td><td>29.46020     </td><td>30.83590     </td><td>Utterance    </td><td> 0           </td></tr>\n",
       "\t<tr><th scope=row>719</th><td>264          </td><td>3            </td><td>1994         </td><td>381          </td><td>31.49467     </td><td>30.40077     </td><td>30.94772     </td><td>Utterance    </td><td>20           </td></tr>\n",
       "\t<tr><th scope=row>1088</th><td>736          </td><td>4            </td><td>2003         </td><td> 66          </td><td>33.57211     </td><td>28.78124     </td><td>31.17667     </td><td>Utterance    </td><td>29           </td></tr>\n",
       "\t<tr><th scope=row>806</th><td>377          </td><td>3            </td><td>1997         </td><td>172          </td><td>33.45703     </td><td>29.31363     </td><td>31.38533     </td><td>Utterance    </td><td>23           </td></tr>\n",
       "\t<tr><th scope=row>686</th><td>264          </td><td>3            </td><td>1994         </td><td>379          </td><td>30.97742     </td><td>32.05698     </td><td>31.51720     </td><td>Utterance    </td><td>20           </td></tr>\n",
       "\t<tr><th scope=row>799</th><td>377          </td><td>3            </td><td>1997         </td><td>164          </td><td>35.12437     </td><td>27.96998     </td><td>31.54718     </td><td>Utterance    </td><td>23           </td></tr>\n",
       "\t<tr><th scope=row>802</th><td>377          </td><td>3            </td><td>1997         </td><td>168          </td><td>33.77845     </td><td>29.37671     </td><td>31.57758     </td><td>Utterance    </td><td>23           </td></tr>\n",
       "\t<tr><th scope=row>822</th><td>377          </td><td>3            </td><td>1997         </td><td>161          </td><td>30.94645     </td><td>32.26385     </td><td>31.60515     </td><td>Utterance    </td><td>23           </td></tr>\n",
       "\t<tr><th scope=row>759</th><td>275          </td><td>3            </td><td>1993         </td><td>480          </td><td>32.47005     </td><td>30.81476     </td><td>31.64240     </td><td>Utterance    </td><td>19           </td></tr>\n",
       "\t<tr><th scope=row>825</th><td>377          </td><td>3            </td><td>1997         </td><td>177          </td><td>34.17330     </td><td>29.34279     </td><td>31.75805     </td><td>Utterance    </td><td>23           </td></tr>\n",
       "\t<tr><th scope=row>700</th><td>264          </td><td>3            </td><td>1994         </td><td>393          </td><td>33.41570     </td><td>30.30898     </td><td>31.86234     </td><td>Utterance    </td><td>20           </td></tr>\n",
       "\t<tr><th scope=row>795</th><td>275          </td><td>3            </td><td>1993         </td><td>478          </td><td>32.01861     </td><td>31.88295     </td><td>31.95078     </td><td>Utterance    </td><td>19           </td></tr>\n",
       "\t<tr><th scope=row>1064</th><td>420          </td><td>3            </td><td>1999         </td><td>241          </td><td>30.94492     </td><td>33.01127     </td><td>31.97810     </td><td>Utterance    </td><td>25           </td></tr>\n",
       "\t<tr><th scope=row>828</th><td>377          </td><td>3            </td><td>1997         </td><td>180          </td><td>32.82382     </td><td>31.17982     </td><td>32.00182     </td><td>Utterance    </td><td>23           </td></tr>\n",
       "\t<tr><th scope=row>1075</th><td>420          </td><td>3            </td><td>1999         </td><td>253          </td><td>32.63032     </td><td>31.76601     </td><td>32.19816     </td><td>Utterance    </td><td>25           </td></tr>\n",
       "\t<tr><th scope=row>⋮</th><td>⋮</td><td>⋮</td><td>⋮</td><td>⋮</td><td>⋮</td><td>⋮</td><td>⋮</td><td>⋮</td><td>⋮</td></tr>\n",
       "\t<tr><th scope=row>449</th><td>159          </td><td>2            </td><td>1986         </td><td>458          </td><td>55.04943     </td><td>51.92575     </td><td>53.48759     </td><td>Non Utterance</td><td>12           </td></tr>\n",
       "\t<tr><th scope=row>307</th><td>145          </td><td>2            </td><td>1990         </td><td>  9          </td><td>56.04298     </td><td>50.96846     </td><td>53.50572     </td><td>Non Utterance</td><td>16           </td></tr>\n",
       "\t<tr><th scope=row>72</th><td> 36          </td><td>1            </td><td>1980         </td><td> 85          </td><td>53.04991     </td><td>54.02003     </td><td>53.53497     </td><td>Non Utterance</td><td> 6           </td></tr>\n",
       "\t<tr><th scope=row>84</th><td> 36          </td><td>1            </td><td>1980         </td><td> 71          </td><td>52.41644     </td><td>54.95469     </td><td>53.68557     </td><td>Non Utterance</td><td> 6           </td></tr>\n",
       "\t<tr><th scope=row>124</th><td> 36          </td><td>1            </td><td>1980         </td><td> 70          </td><td>52.50658     </td><td>54.92146     </td><td>53.71402     </td><td>Non Utterance</td><td> 6           </td></tr>\n",
       "\t<tr><th scope=row>450</th><td>159          </td><td>2            </td><td>1986         </td><td>459          </td><td>56.03942     </td><td>51.59304     </td><td>53.81623     </td><td>Non Utterance</td><td>12           </td></tr>\n",
       "\t<tr><th scope=row>438</th><td>159          </td><td>2            </td><td>1986         </td><td>446          </td><td>55.05069     </td><td>52.81002     </td><td>53.93035     </td><td>Non Utterance</td><td>12           </td></tr>\n",
       "\t<tr><th scope=row>454</th><td>159          </td><td>2            </td><td>1986         </td><td>462          </td><td>56.12463     </td><td>51.88082     </td><td>54.00272     </td><td>Non Utterance</td><td>12           </td></tr>\n",
       "\t<tr><th scope=row>416</th><td>159          </td><td>2            </td><td>1986         </td><td>461          </td><td>56.80280     </td><td>51.22492     </td><td>54.01386     </td><td>Non Utterance</td><td>12           </td></tr>\n",
       "\t<tr><th scope=row>436</th><td>159          </td><td>2            </td><td>1986         </td><td>444          </td><td>54.22583     </td><td>53.82323     </td><td>54.02453     </td><td>Non Utterance</td><td>12           </td></tr>\n",
       "\t<tr><th scope=row>434</th><td>159          </td><td>2            </td><td>1986         </td><td>442          </td><td>55.71796     </td><td>52.39594     </td><td>54.05695     </td><td>Non Utterance</td><td>12           </td></tr>\n",
       "\t<tr><th scope=row>428</th><td>159          </td><td>2            </td><td>1986         </td><td>436          </td><td>55.89128     </td><td>52.30380     </td><td>54.09754     </td><td>Non Utterance</td><td>12           </td></tr>\n",
       "\t<tr><th scope=row>475</th><td>159          </td><td>2            </td><td>1986         </td><td>465          </td><td>57.06174     </td><td>51.27140     </td><td>54.16657     </td><td>Non Utterance</td><td>12           </td></tr>\n",
       "\t<tr><th scope=row>447</th><td>159          </td><td>2            </td><td>1986         </td><td>456          </td><td>57.22949     </td><td>51.17814     </td><td>54.20382     </td><td>Non Utterance</td><td>12           </td></tr>\n",
       "\t<tr><th scope=row>80</th><td> 36          </td><td>1            </td><td>1980         </td><td> 81          </td><td>54.36752     </td><td>54.36897     </td><td>54.36824     </td><td>Non Utterance</td><td> 6           </td></tr>\n",
       "\t<tr><th scope=row>464</th><td>159          </td><td>2            </td><td>1986         </td><td>432          </td><td>57.03000     </td><td>51.70704     </td><td>54.36852     </td><td>Non Utterance</td><td>12           </td></tr>\n",
       "\t<tr><th scope=row>408</th><td>159          </td><td>2            </td><td>1986         </td><td>448          </td><td>57.20433     </td><td>51.55752     </td><td>54.38092     </td><td>Non Utterance</td><td>12           </td></tr>\n",
       "\t<tr><th scope=row>448</th><td>159          </td><td>2            </td><td>1986         </td><td>457          </td><td>56.27901     </td><td>52.62599     </td><td>54.45250     </td><td>Non Utterance</td><td>12           </td></tr>\n",
       "\t<tr><th scope=row>446</th><td>159          </td><td>2            </td><td>1986         </td><td>455          </td><td>56.53748     </td><td>52.37533     </td><td>54.45640     </td><td>Non Utterance</td><td>12           </td></tr>\n",
       "\t<tr><th scope=row>319</th><td>145          </td><td>2            </td><td>1990         </td><td> 21          </td><td>57.00128     </td><td>52.05346     </td><td>54.52737     </td><td>Non Utterance</td><td>16           </td></tr>\n",
       "\t<tr><th scope=row>444</th><td>159          </td><td>2            </td><td>1986         </td><td>453          </td><td>56.41020     </td><td>52.78458     </td><td>54.59739     </td><td>Non Utterance</td><td>12           </td></tr>\n",
       "\t<tr><th scope=row>414</th><td>159          </td><td>2            </td><td>1986         </td><td>451          </td><td>56.94016     </td><td>52.35180     </td><td>54.64598     </td><td>Non Utterance</td><td>12           </td></tr>\n",
       "\t<tr><th scope=row>433</th><td>159          </td><td>2            </td><td>1986         </td><td>441          </td><td>56.66588     </td><td>53.08660     </td><td>54.87624     </td><td>Non Utterance</td><td>12           </td></tr>\n",
       "\t<tr><th scope=row>429</th><td>159          </td><td>2            </td><td>1986         </td><td>437          </td><td>58.09395     </td><td>51.67682     </td><td>54.88538     </td><td>Non Utterance</td><td>12           </td></tr>\n",
       "\t<tr><th scope=row>466</th><td>159          </td><td>2            </td><td>1986         </td><td>464          </td><td>57.28523     </td><td>52.60542     </td><td>54.94532     </td><td>Non Utterance</td><td>12           </td></tr>\n",
       "\t<tr><th scope=row>420</th><td>159          </td><td>2            </td><td>1986         </td><td>452          </td><td>57.83004     </td><td>52.87294     </td><td>55.35149     </td><td>Non Utterance</td><td>12           </td></tr>\n",
       "\t<tr><th scope=row>455</th><td>159          </td><td>2            </td><td>1986         </td><td>463          </td><td>55.49032     </td><td>55.77394     </td><td>55.63213     </td><td>Non Utterance</td><td>12           </td></tr>\n",
       "\t<tr><th scope=row>427</th><td>159          </td><td>2            </td><td>1986         </td><td>435          </td><td>55.33442     </td><td>56.18055     </td><td>55.75749     </td><td>Non Utterance</td><td>12           </td></tr>\n",
       "\t<tr><th scope=row>476</th><td>159          </td><td>2            </td><td>1986         </td><td>466          </td><td>58.62235     </td><td>53.77963     </td><td>56.20099     </td><td>Non Utterance</td><td>12           </td></tr>\n",
       "\t<tr><th scope=row>453</th><td>159          </td><td>2            </td><td>1986         </td><td>434          </td><td>56.49140     </td><td>56.60304     </td><td>56.54722     </td><td>Non Utterance</td><td>12           </td></tr>\n",
       "</tbody>\n",
       "</table>\n"
      ],
      "text/latex": [
       "\\begin{tabular}{r|lllllllll}\n",
       "  & Signer & cohort & YoE & segment\\_number & left\\_body\\_wrist\\_dist & right\\_body\\_wrist\\_dist & mean\\_body\\_wrist\\_dist & is\\_utterance & YoE\\_centered\\\\\n",
       "\\hline\n",
       "\t168 &  41           & 1             & 1974          & 302           & 23.88060      & 22.35349      & 23.11704      & Non Utterance &  0           \\\\\n",
       "\t1068 & 420           & 3             & 1999          & 259           & 21.50735      & 25.08338      & 23.29536      & Utterance     & 25           \\\\\n",
       "\t520 & 191           & 1             & 1983          & 119           & 20.07427      & 29.26891      & 24.67159      & Utterance     &  9           \\\\\n",
       "\t691 & 264           & 3             & 1994          & 371           & 28.26216      & 28.93004      & 28.59610      & Utterance     & 20           \\\\\n",
       "\t717 & 264           & 3             & 1994          & 385           & 28.14682      & 29.53658      & 28.84170      & Utterance     & 20           \\\\\n",
       "\t1028 & 420           & 3             & 1999          & 248           & 25.40445      & 33.31104      & 29.35774      & Utterance     & 25           \\\\\n",
       "\t699 & 264           & 3             & 1994          & 392           & 25.43746      & 33.33454      & 29.38600      & Utterance     & 20           \\\\\n",
       "\t683 & 264           & 3             & 1994          & 372           & 27.96448      & 31.42671      & 29.69559      & Utterance     & 20           \\\\\n",
       "\t675 & 264           & 3             & 1994          & 374           & 29.49257      & 30.11337      & 29.80297      & Utterance     & 20           \\\\\n",
       "\t685 & 264           & 3             & 1994          & 391           & 30.18796      & 30.05726      & 30.12261      & Utterance     & 20           \\\\\n",
       "\t827 & 377           & 3             & 1997          & 179           & 31.70418      & 28.66277      & 30.18347      & Utterance     & 23           \\\\\n",
       "\t709 & 264           & 3             & 1994          & 389           & 28.65910      & 31.93647      & 30.29779      & Utterance     & 20           \\\\\n",
       "\t815 & 377           & 3             & 1997          & 182           & 32.96994      & 28.09869      & 30.53432      & Utterance     & 23           \\\\\n",
       "\t812 & 377           & 3             & 1997          & 165           & 34.80437      & 26.36691      & 30.58564      & Utterance     & 23           \\\\\n",
       "\t1066 & 420           & 3             & 1999          & 230           & 29.97067      & 31.33859      & 30.65463      & Utterance     & 25           \\\\\n",
       "\t587 & 200           & 1             & 1974          & 145           & 32.21160      & 29.46020      & 30.83590      & Utterance     &  0           \\\\\n",
       "\t719 & 264           & 3             & 1994          & 381           & 31.49467      & 30.40077      & 30.94772      & Utterance     & 20           \\\\\n",
       "\t1088 & 736           & 4             & 2003          &  66           & 33.57211      & 28.78124      & 31.17667      & Utterance     & 29           \\\\\n",
       "\t806 & 377           & 3             & 1997          & 172           & 33.45703      & 29.31363      & 31.38533      & Utterance     & 23           \\\\\n",
       "\t686 & 264           & 3             & 1994          & 379           & 30.97742      & 32.05698      & 31.51720      & Utterance     & 20           \\\\\n",
       "\t799 & 377           & 3             & 1997          & 164           & 35.12437      & 27.96998      & 31.54718      & Utterance     & 23           \\\\\n",
       "\t802 & 377           & 3             & 1997          & 168           & 33.77845      & 29.37671      & 31.57758      & Utterance     & 23           \\\\\n",
       "\t822 & 377           & 3             & 1997          & 161           & 30.94645      & 32.26385      & 31.60515      & Utterance     & 23           \\\\\n",
       "\t759 & 275           & 3             & 1993          & 480           & 32.47005      & 30.81476      & 31.64240      & Utterance     & 19           \\\\\n",
       "\t825 & 377           & 3             & 1997          & 177           & 34.17330      & 29.34279      & 31.75805      & Utterance     & 23           \\\\\n",
       "\t700 & 264           & 3             & 1994          & 393           & 33.41570      & 30.30898      & 31.86234      & Utterance     & 20           \\\\\n",
       "\t795 & 275           & 3             & 1993          & 478           & 32.01861      & 31.88295      & 31.95078      & Utterance     & 19           \\\\\n",
       "\t1064 & 420           & 3             & 1999          & 241           & 30.94492      & 33.01127      & 31.97810      & Utterance     & 25           \\\\\n",
       "\t828 & 377           & 3             & 1997          & 180           & 32.82382      & 31.17982      & 32.00182      & Utterance     & 23           \\\\\n",
       "\t1075 & 420           & 3             & 1999          & 253           & 32.63032      & 31.76601      & 32.19816      & Utterance     & 25           \\\\\n",
       "\t⋮ & ⋮ & ⋮ & ⋮ & ⋮ & ⋮ & ⋮ & ⋮ & ⋮ & ⋮\\\\\n",
       "\t449 & 159           & 2             & 1986          & 458           & 55.04943      & 51.92575      & 53.48759      & Non Utterance & 12           \\\\\n",
       "\t307 & 145           & 2             & 1990          &   9           & 56.04298      & 50.96846      & 53.50572      & Non Utterance & 16           \\\\\n",
       "\t72 &  36           & 1             & 1980          &  85           & 53.04991      & 54.02003      & 53.53497      & Non Utterance &  6           \\\\\n",
       "\t84 &  36           & 1             & 1980          &  71           & 52.41644      & 54.95469      & 53.68557      & Non Utterance &  6           \\\\\n",
       "\t124 &  36           & 1             & 1980          &  70           & 52.50658      & 54.92146      & 53.71402      & Non Utterance &  6           \\\\\n",
       "\t450 & 159           & 2             & 1986          & 459           & 56.03942      & 51.59304      & 53.81623      & Non Utterance & 12           \\\\\n",
       "\t438 & 159           & 2             & 1986          & 446           & 55.05069      & 52.81002      & 53.93035      & Non Utterance & 12           \\\\\n",
       "\t454 & 159           & 2             & 1986          & 462           & 56.12463      & 51.88082      & 54.00272      & Non Utterance & 12           \\\\\n",
       "\t416 & 159           & 2             & 1986          & 461           & 56.80280      & 51.22492      & 54.01386      & Non Utterance & 12           \\\\\n",
       "\t436 & 159           & 2             & 1986          & 444           & 54.22583      & 53.82323      & 54.02453      & Non Utterance & 12           \\\\\n",
       "\t434 & 159           & 2             & 1986          & 442           & 55.71796      & 52.39594      & 54.05695      & Non Utterance & 12           \\\\\n",
       "\t428 & 159           & 2             & 1986          & 436           & 55.89128      & 52.30380      & 54.09754      & Non Utterance & 12           \\\\\n",
       "\t475 & 159           & 2             & 1986          & 465           & 57.06174      & 51.27140      & 54.16657      & Non Utterance & 12           \\\\\n",
       "\t447 & 159           & 2             & 1986          & 456           & 57.22949      & 51.17814      & 54.20382      & Non Utterance & 12           \\\\\n",
       "\t80 &  36           & 1             & 1980          &  81           & 54.36752      & 54.36897      & 54.36824      & Non Utterance &  6           \\\\\n",
       "\t464 & 159           & 2             & 1986          & 432           & 57.03000      & 51.70704      & 54.36852      & Non Utterance & 12           \\\\\n",
       "\t408 & 159           & 2             & 1986          & 448           & 57.20433      & 51.55752      & 54.38092      & Non Utterance & 12           \\\\\n",
       "\t448 & 159           & 2             & 1986          & 457           & 56.27901      & 52.62599      & 54.45250      & Non Utterance & 12           \\\\\n",
       "\t446 & 159           & 2             & 1986          & 455           & 56.53748      & 52.37533      & 54.45640      & Non Utterance & 12           \\\\\n",
       "\t319 & 145           & 2             & 1990          &  21           & 57.00128      & 52.05346      & 54.52737      & Non Utterance & 16           \\\\\n",
       "\t444 & 159           & 2             & 1986          & 453           & 56.41020      & 52.78458      & 54.59739      & Non Utterance & 12           \\\\\n",
       "\t414 & 159           & 2             & 1986          & 451           & 56.94016      & 52.35180      & 54.64598      & Non Utterance & 12           \\\\\n",
       "\t433 & 159           & 2             & 1986          & 441           & 56.66588      & 53.08660      & 54.87624      & Non Utterance & 12           \\\\\n",
       "\t429 & 159           & 2             & 1986          & 437           & 58.09395      & 51.67682      & 54.88538      & Non Utterance & 12           \\\\\n",
       "\t466 & 159           & 2             & 1986          & 464           & 57.28523      & 52.60542      & 54.94532      & Non Utterance & 12           \\\\\n",
       "\t420 & 159           & 2             & 1986          & 452           & 57.83004      & 52.87294      & 55.35149      & Non Utterance & 12           \\\\\n",
       "\t455 & 159           & 2             & 1986          & 463           & 55.49032      & 55.77394      & 55.63213      & Non Utterance & 12           \\\\\n",
       "\t427 & 159           & 2             & 1986          & 435           & 55.33442      & 56.18055      & 55.75749      & Non Utterance & 12           \\\\\n",
       "\t476 & 159           & 2             & 1986          & 466           & 58.62235      & 53.77963      & 56.20099      & Non Utterance & 12           \\\\\n",
       "\t453 & 159           & 2             & 1986          & 434           & 56.49140      & 56.60304      & 56.54722      & Non Utterance & 12           \\\\\n",
       "\\end{tabular}\n"
      ],
      "text/markdown": [
       "\n",
       "| <!--/--> | Signer | cohort | YoE | segment_number | left_body_wrist_dist | right_body_wrist_dist | mean_body_wrist_dist | is_utterance | YoE_centered | \n",
       "|---|---|---|---|---|---|---|---|---|---|---|---|---|---|---|---|---|---|---|---|---|---|---|---|---|---|---|---|---|---|---|---|---|---|---|---|---|---|---|---|---|---|---|---|---|---|---|---|---|---|---|---|---|---|---|---|---|---|---|---|---|\n",
       "| 168 |  41           | 1             | 1974          | 302           | 23.88060      | 22.35349      | 23.11704      | Non Utterance |  0            | \n",
       "| 1068 | 420           | 3             | 1999          | 259           | 21.50735      | 25.08338      | 23.29536      | Utterance     | 25            | \n",
       "| 520 | 191           | 1             | 1983          | 119           | 20.07427      | 29.26891      | 24.67159      | Utterance     |  9            | \n",
       "| 691 | 264           | 3             | 1994          | 371           | 28.26216      | 28.93004      | 28.59610      | Utterance     | 20            | \n",
       "| 717 | 264           | 3             | 1994          | 385           | 28.14682      | 29.53658      | 28.84170      | Utterance     | 20            | \n",
       "| 1028 | 420           | 3             | 1999          | 248           | 25.40445      | 33.31104      | 29.35774      | Utterance     | 25            | \n",
       "| 699 | 264           | 3             | 1994          | 392           | 25.43746      | 33.33454      | 29.38600      | Utterance     | 20            | \n",
       "| 683 | 264           | 3             | 1994          | 372           | 27.96448      | 31.42671      | 29.69559      | Utterance     | 20            | \n",
       "| 675 | 264           | 3             | 1994          | 374           | 29.49257      | 30.11337      | 29.80297      | Utterance     | 20            | \n",
       "| 685 | 264           | 3             | 1994          | 391           | 30.18796      | 30.05726      | 30.12261      | Utterance     | 20            | \n",
       "| 827 | 377           | 3             | 1997          | 179           | 31.70418      | 28.66277      | 30.18347      | Utterance     | 23            | \n",
       "| 709 | 264           | 3             | 1994          | 389           | 28.65910      | 31.93647      | 30.29779      | Utterance     | 20            | \n",
       "| 815 | 377           | 3             | 1997          | 182           | 32.96994      | 28.09869      | 30.53432      | Utterance     | 23            | \n",
       "| 812 | 377           | 3             | 1997          | 165           | 34.80437      | 26.36691      | 30.58564      | Utterance     | 23            | \n",
       "| 1066 | 420           | 3             | 1999          | 230           | 29.97067      | 31.33859      | 30.65463      | Utterance     | 25            | \n",
       "| 587 | 200           | 1             | 1974          | 145           | 32.21160      | 29.46020      | 30.83590      | Utterance     |  0            | \n",
       "| 719 | 264           | 3             | 1994          | 381           | 31.49467      | 30.40077      | 30.94772      | Utterance     | 20            | \n",
       "| 1088 | 736           | 4             | 2003          |  66           | 33.57211      | 28.78124      | 31.17667      | Utterance     | 29            | \n",
       "| 806 | 377           | 3             | 1997          | 172           | 33.45703      | 29.31363      | 31.38533      | Utterance     | 23            | \n",
       "| 686 | 264           | 3             | 1994          | 379           | 30.97742      | 32.05698      | 31.51720      | Utterance     | 20            | \n",
       "| 799 | 377           | 3             | 1997          | 164           | 35.12437      | 27.96998      | 31.54718      | Utterance     | 23            | \n",
       "| 802 | 377           | 3             | 1997          | 168           | 33.77845      | 29.37671      | 31.57758      | Utterance     | 23            | \n",
       "| 822 | 377           | 3             | 1997          | 161           | 30.94645      | 32.26385      | 31.60515      | Utterance     | 23            | \n",
       "| 759 | 275           | 3             | 1993          | 480           | 32.47005      | 30.81476      | 31.64240      | Utterance     | 19            | \n",
       "| 825 | 377           | 3             | 1997          | 177           | 34.17330      | 29.34279      | 31.75805      | Utterance     | 23            | \n",
       "| 700 | 264           | 3             | 1994          | 393           | 33.41570      | 30.30898      | 31.86234      | Utterance     | 20            | \n",
       "| 795 | 275           | 3             | 1993          | 478           | 32.01861      | 31.88295      | 31.95078      | Utterance     | 19            | \n",
       "| 1064 | 420           | 3             | 1999          | 241           | 30.94492      | 33.01127      | 31.97810      | Utterance     | 25            | \n",
       "| 828 | 377           | 3             | 1997          | 180           | 32.82382      | 31.17982      | 32.00182      | Utterance     | 23            | \n",
       "| 1075 | 420           | 3             | 1999          | 253           | 32.63032      | 31.76601      | 32.19816      | Utterance     | 25            | \n",
       "| ⋮ | ⋮ | ⋮ | ⋮ | ⋮ | ⋮ | ⋮ | ⋮ | ⋮ | ⋮ | \n",
       "| 449 | 159           | 2             | 1986          | 458           | 55.04943      | 51.92575      | 53.48759      | Non Utterance | 12            | \n",
       "| 307 | 145           | 2             | 1990          |   9           | 56.04298      | 50.96846      | 53.50572      | Non Utterance | 16            | \n",
       "| 72 |  36           | 1             | 1980          |  85           | 53.04991      | 54.02003      | 53.53497      | Non Utterance |  6            | \n",
       "| 84 |  36           | 1             | 1980          |  71           | 52.41644      | 54.95469      | 53.68557      | Non Utterance |  6            | \n",
       "| 124 |  36           | 1             | 1980          |  70           | 52.50658      | 54.92146      | 53.71402      | Non Utterance |  6            | \n",
       "| 450 | 159           | 2             | 1986          | 459           | 56.03942      | 51.59304      | 53.81623      | Non Utterance | 12            | \n",
       "| 438 | 159           | 2             | 1986          | 446           | 55.05069      | 52.81002      | 53.93035      | Non Utterance | 12            | \n",
       "| 454 | 159           | 2             | 1986          | 462           | 56.12463      | 51.88082      | 54.00272      | Non Utterance | 12            | \n",
       "| 416 | 159           | 2             | 1986          | 461           | 56.80280      | 51.22492      | 54.01386      | Non Utterance | 12            | \n",
       "| 436 | 159           | 2             | 1986          | 444           | 54.22583      | 53.82323      | 54.02453      | Non Utterance | 12            | \n",
       "| 434 | 159           | 2             | 1986          | 442           | 55.71796      | 52.39594      | 54.05695      | Non Utterance | 12            | \n",
       "| 428 | 159           | 2             | 1986          | 436           | 55.89128      | 52.30380      | 54.09754      | Non Utterance | 12            | \n",
       "| 475 | 159           | 2             | 1986          | 465           | 57.06174      | 51.27140      | 54.16657      | Non Utterance | 12            | \n",
       "| 447 | 159           | 2             | 1986          | 456           | 57.22949      | 51.17814      | 54.20382      | Non Utterance | 12            | \n",
       "| 80 |  36           | 1             | 1980          |  81           | 54.36752      | 54.36897      | 54.36824      | Non Utterance |  6            | \n",
       "| 464 | 159           | 2             | 1986          | 432           | 57.03000      | 51.70704      | 54.36852      | Non Utterance | 12            | \n",
       "| 408 | 159           | 2             | 1986          | 448           | 57.20433      | 51.55752      | 54.38092      | Non Utterance | 12            | \n",
       "| 448 | 159           | 2             | 1986          | 457           | 56.27901      | 52.62599      | 54.45250      | Non Utterance | 12            | \n",
       "| 446 | 159           | 2             | 1986          | 455           | 56.53748      | 52.37533      | 54.45640      | Non Utterance | 12            | \n",
       "| 319 | 145           | 2             | 1990          |  21           | 57.00128      | 52.05346      | 54.52737      | Non Utterance | 16            | \n",
       "| 444 | 159           | 2             | 1986          | 453           | 56.41020      | 52.78458      | 54.59739      | Non Utterance | 12            | \n",
       "| 414 | 159           | 2             | 1986          | 451           | 56.94016      | 52.35180      | 54.64598      | Non Utterance | 12            | \n",
       "| 433 | 159           | 2             | 1986          | 441           | 56.66588      | 53.08660      | 54.87624      | Non Utterance | 12            | \n",
       "| 429 | 159           | 2             | 1986          | 437           | 58.09395      | 51.67682      | 54.88538      | Non Utterance | 12            | \n",
       "| 466 | 159           | 2             | 1986          | 464           | 57.28523      | 52.60542      | 54.94532      | Non Utterance | 12            | \n",
       "| 420 | 159           | 2             | 1986          | 452           | 57.83004      | 52.87294      | 55.35149      | Non Utterance | 12            | \n",
       "| 455 | 159           | 2             | 1986          | 463           | 55.49032      | 55.77394      | 55.63213      | Non Utterance | 12            | \n",
       "| 427 | 159           | 2             | 1986          | 435           | 55.33442      | 56.18055      | 55.75749      | Non Utterance | 12            | \n",
       "| 476 | 159           | 2             | 1986          | 466           | 58.62235      | 53.77963      | 56.20099      | Non Utterance | 12            | \n",
       "| 453 | 159           | 2             | 1986          | 434           | 56.49140      | 56.60304      | 56.54722      | Non Utterance | 12            | \n",
       "\n",
       "\n"
      ],
      "text/plain": [
       "     Signer cohort YoE  segment_number left_body_wrist_dist\n",
       "168   41    1      1974 302            23.88060            \n",
       "1068 420    3      1999 259            21.50735            \n",
       "520  191    1      1983 119            20.07427            \n",
       "691  264    3      1994 371            28.26216            \n",
       "717  264    3      1994 385            28.14682            \n",
       "1028 420    3      1999 248            25.40445            \n",
       "699  264    3      1994 392            25.43746            \n",
       "683  264    3      1994 372            27.96448            \n",
       "675  264    3      1994 374            29.49257            \n",
       "685  264    3      1994 391            30.18796            \n",
       "827  377    3      1997 179            31.70418            \n",
       "709  264    3      1994 389            28.65910            \n",
       "815  377    3      1997 182            32.96994            \n",
       "812  377    3      1997 165            34.80437            \n",
       "1066 420    3      1999 230            29.97067            \n",
       "587  200    1      1974 145            32.21160            \n",
       "719  264    3      1994 381            31.49467            \n",
       "1088 736    4      2003  66            33.57211            \n",
       "806  377    3      1997 172            33.45703            \n",
       "686  264    3      1994 379            30.97742            \n",
       "799  377    3      1997 164            35.12437            \n",
       "802  377    3      1997 168            33.77845            \n",
       "822  377    3      1997 161            30.94645            \n",
       "759  275    3      1993 480            32.47005            \n",
       "825  377    3      1997 177            34.17330            \n",
       "700  264    3      1994 393            33.41570            \n",
       "795  275    3      1993 478            32.01861            \n",
       "1064 420    3      1999 241            30.94492            \n",
       "828  377    3      1997 180            32.82382            \n",
       "1075 420    3      1999 253            32.63032            \n",
       "⋮    ⋮      ⋮      ⋮    ⋮              ⋮                   \n",
       "449  159    2      1986 458            55.04943            \n",
       "307  145    2      1990   9            56.04298            \n",
       "72    36    1      1980  85            53.04991            \n",
       "84    36    1      1980  71            52.41644            \n",
       "124   36    1      1980  70            52.50658            \n",
       "450  159    2      1986 459            56.03942            \n",
       "438  159    2      1986 446            55.05069            \n",
       "454  159    2      1986 462            56.12463            \n",
       "416  159    2      1986 461            56.80280            \n",
       "436  159    2      1986 444            54.22583            \n",
       "434  159    2      1986 442            55.71796            \n",
       "428  159    2      1986 436            55.89128            \n",
       "475  159    2      1986 465            57.06174            \n",
       "447  159    2      1986 456            57.22949            \n",
       "80    36    1      1980  81            54.36752            \n",
       "464  159    2      1986 432            57.03000            \n",
       "408  159    2      1986 448            57.20433            \n",
       "448  159    2      1986 457            56.27901            \n",
       "446  159    2      1986 455            56.53748            \n",
       "319  145    2      1990  21            57.00128            \n",
       "444  159    2      1986 453            56.41020            \n",
       "414  159    2      1986 451            56.94016            \n",
       "433  159    2      1986 441            56.66588            \n",
       "429  159    2      1986 437            58.09395            \n",
       "466  159    2      1986 464            57.28523            \n",
       "420  159    2      1986 452            57.83004            \n",
       "455  159    2      1986 463            55.49032            \n",
       "427  159    2      1986 435            55.33442            \n",
       "476  159    2      1986 466            58.62235            \n",
       "453  159    2      1986 434            56.49140            \n",
       "     right_body_wrist_dist mean_body_wrist_dist is_utterance  YoE_centered\n",
       "168  22.35349              23.11704             Non Utterance  0          \n",
       "1068 25.08338              23.29536             Utterance     25          \n",
       "520  29.26891              24.67159             Utterance      9          \n",
       "691  28.93004              28.59610             Utterance     20          \n",
       "717  29.53658              28.84170             Utterance     20          \n",
       "1028 33.31104              29.35774             Utterance     25          \n",
       "699  33.33454              29.38600             Utterance     20          \n",
       "683  31.42671              29.69559             Utterance     20          \n",
       "675  30.11337              29.80297             Utterance     20          \n",
       "685  30.05726              30.12261             Utterance     20          \n",
       "827  28.66277              30.18347             Utterance     23          \n",
       "709  31.93647              30.29779             Utterance     20          \n",
       "815  28.09869              30.53432             Utterance     23          \n",
       "812  26.36691              30.58564             Utterance     23          \n",
       "1066 31.33859              30.65463             Utterance     25          \n",
       "587  29.46020              30.83590             Utterance      0          \n",
       "719  30.40077              30.94772             Utterance     20          \n",
       "1088 28.78124              31.17667             Utterance     29          \n",
       "806  29.31363              31.38533             Utterance     23          \n",
       "686  32.05698              31.51720             Utterance     20          \n",
       "799  27.96998              31.54718             Utterance     23          \n",
       "802  29.37671              31.57758             Utterance     23          \n",
       "822  32.26385              31.60515             Utterance     23          \n",
       "759  30.81476              31.64240             Utterance     19          \n",
       "825  29.34279              31.75805             Utterance     23          \n",
       "700  30.30898              31.86234             Utterance     20          \n",
       "795  31.88295              31.95078             Utterance     19          \n",
       "1064 33.01127              31.97810             Utterance     25          \n",
       "828  31.17982              32.00182             Utterance     23          \n",
       "1075 31.76601              32.19816             Utterance     25          \n",
       "⋮    ⋮                     ⋮                    ⋮             ⋮           \n",
       "449  51.92575              53.48759             Non Utterance 12          \n",
       "307  50.96846              53.50572             Non Utterance 16          \n",
       "72   54.02003              53.53497             Non Utterance  6          \n",
       "84   54.95469              53.68557             Non Utterance  6          \n",
       "124  54.92146              53.71402             Non Utterance  6          \n",
       "450  51.59304              53.81623             Non Utterance 12          \n",
       "438  52.81002              53.93035             Non Utterance 12          \n",
       "454  51.88082              54.00272             Non Utterance 12          \n",
       "416  51.22492              54.01386             Non Utterance 12          \n",
       "436  53.82323              54.02453             Non Utterance 12          \n",
       "434  52.39594              54.05695             Non Utterance 12          \n",
       "428  52.30380              54.09754             Non Utterance 12          \n",
       "475  51.27140              54.16657             Non Utterance 12          \n",
       "447  51.17814              54.20382             Non Utterance 12          \n",
       "80   54.36897              54.36824             Non Utterance  6          \n",
       "464  51.70704              54.36852             Non Utterance 12          \n",
       "408  51.55752              54.38092             Non Utterance 12          \n",
       "448  52.62599              54.45250             Non Utterance 12          \n",
       "446  52.37533              54.45640             Non Utterance 12          \n",
       "319  52.05346              54.52737             Non Utterance 16          \n",
       "444  52.78458              54.59739             Non Utterance 12          \n",
       "414  52.35180              54.64598             Non Utterance 12          \n",
       "433  53.08660              54.87624             Non Utterance 12          \n",
       "429  51.67682              54.88538             Non Utterance 12          \n",
       "466  52.60542              54.94532             Non Utterance 12          \n",
       "420  52.87294              55.35149             Non Utterance 12          \n",
       "455  55.77394              55.63213             Non Utterance 12          \n",
       "427  56.18055              55.75749             Non Utterance 12          \n",
       "476  53.77963              56.20099             Non Utterance 12          \n",
       "453  56.60304              56.54722             Non Utterance 12          "
      ]
     },
     "metadata": {},
     "output_type": "display_data"
    }
   ],
   "source": [
    "body_wrist_distances[order(body_wrist_distances$mean_body_wrist_dist),]"
   ]
  },
  {
   "cell_type": "code",
   "execution_count": 221,
   "metadata": {
    "collapsed": false
   },
   "outputs": [
    {
     "name": "stdout",
     "output_type": "stream",
     "text": [
      "body wrist distance by year of entry"
     ]
    },
    {
     "data": {},
     "metadata": {},
     "output_type": "display_data"
    },
    {
     "name": "stderr",
     "output_type": "stream",
     "text": [
      "Saving 7 x 7 in image\n"
     ]
    },
    {
     "data": {
      "image/png": "[encoded data removed]",
      "text/plain": [
       "plot without title"
      ]
     },
     "metadata": {},
     "output_type": "display_data"
    }
   ],
   "source": [
    "require(ggplot2)\n",
    "\n",
    "cat(\"body wrist distance by year of entry\")\n",
    "\n",
    "p <- ggplot(body_wrist_distances, aes(x = YoE, y = mean_body_wrist_dist, color = is_utterance))+\n",
    "geom_point(size = 2)+\n",
    "# geom_smooth(method = \"lm\")+\n",
    "scale_x_continuous(breaks = seq(1970,2005,by = 5))+\n",
    "xlab(\"Year of entry\")+\n",
    "ylab(\"cm\")+\n",
    "theme_light(base_size = 18)+\n",
    "theme(legend.title = element_blank(), aspect.ratio=1)\n",
    "\n",
    "p\n",
    "ggsave(\"plots/bw_distance_plot.jpeg\", p)"
   ]
  },
  {
   "cell_type": "code",
   "execution_count": 213,
   "metadata": {
    "collapsed": false
   },
   "outputs": [
    {
     "data": {
      "text/plain": [
       "Linear mixed model fit by REML ['lmerMod']\n",
       "Formula: \n",
       "mean_body_wrist_dist ~ YoE_centered + is_utterance + YoE_centered:is_utterance +  \n",
       "    (1 | Signer)\n",
       "   Data: body_wrist_distances\n",
       "\n",
       "REML criterion at convergence: 5853.2\n",
       "\n",
       "Scaled residuals: \n",
       "    Min      1Q  Median      3Q     Max \n",
       "-9.0036 -0.4916  0.0895  0.5708  2.8785 \n",
       "\n",
       "Random effects:\n",
       " Groups   Name        Variance Std.Dev.\n",
       " Signer   (Intercept) 7.340    2.709   \n",
       " Residual             8.909    2.985   \n",
       "Number of obs: 1150, groups:  Signer, 17\n",
       "\n",
       "Fixed effects:\n",
       "                                   Estimate Std. Error t value\n",
       "(Intercept)                        49.33333    1.25224   39.40\n",
       "YoE_centered                       -0.07054    0.07652   -0.92\n",
       "is_utteranceUtterance              -4.64414    0.33424  -13.89\n",
       "YoE_centered:is_utteranceUtterance -0.24967    0.02016  -12.38\n",
       "\n",
       "Correlation of Fixed Effects:\n",
       "            (Intr) YE_cnt is_ttU\n",
       "YoE_centerd -0.845              \n",
       "is_ttrncUtt -0.134  0.112       \n",
       "YE_cntrd:_U  0.114 -0.131 -0.850"
      ]
     },
     "metadata": {},
     "output_type": "display_data"
    },
    {
     "name": "stdout",
     "output_type": "stream",
     "text": [
      "overall"
     ]
    },
    {
     "name": "stderr",
     "output_type": "stream",
     "text": [
      "refitting model(s) with ML (instead of REML)\n"
     ]
    },
    {
     "data": {
      "text/html": [
       "<table>\n",
       "<thead><tr><th></th><th scope=col>Df</th><th scope=col>AIC</th><th scope=col>BIC</th><th scope=col>logLik</th><th scope=col>deviance</th><th scope=col>Chisq</th><th scope=col>Chi Df</th><th scope=col>Pr(&gt;Chisq)</th></tr></thead>\n",
       "<tbody>\n",
       "\t<tr><th scope=row>null_mdl</th><td>3            </td><td>7113.265     </td><td>7128.408     </td><td>-3553.633    </td><td>7107.265     </td><td>      NA     </td><td>NA           </td><td>           NA</td></tr>\n",
       "\t<tr><th scope=row>full_mdl</th><td>6            </td><td>5855.134     </td><td>5885.419     </td><td>-2921.567    </td><td>5843.134     </td><td>1264.131     </td><td> 3           </td><td>8.923991e-274</td></tr>\n",
       "</tbody>\n",
       "</table>\n"
      ],
      "text/latex": [
       "\\begin{tabular}{r|llllllll}\n",
       "  & Df & AIC & BIC & logLik & deviance & Chisq & Chi Df & Pr(>Chisq)\\\\\n",
       "\\hline\n",
       "\tnull\\_mdl & 3             & 7113.265      & 7128.408      & -3553.633     & 7107.265      &       NA      & NA            &            NA\\\\\n",
       "\tfull\\_mdl & 6             & 5855.134      & 5885.419      & -2921.567     & 5843.134      & 1264.131      &  3            & 8.923991e-274\\\\\n",
       "\\end{tabular}\n"
      ],
      "text/markdown": [
       "\n",
       "| <!--/--> | Df | AIC | BIC | logLik | deviance | Chisq | Chi Df | Pr(>Chisq) | \n",
       "|---|---|\n",
       "| null_mdl | 3             | 7113.265      | 7128.408      | -3553.633     | 7107.265      |       NA      | NA            |            NA | \n",
       "| full_mdl | 6             | 5855.134      | 5885.419      | -2921.567     | 5843.134      | 1264.131      |  3            | 8.923991e-274 | \n",
       "\n",
       "\n"
      ],
      "text/plain": [
       "         Df AIC      BIC      logLik    deviance Chisq    Chi Df Pr(>Chisq)   \n",
       "null_mdl 3  7113.265 7128.408 -3553.633 7107.265       NA NA                NA\n",
       "full_mdl 6  5855.134 5885.419 -2921.567 5843.134 1264.131  3     8.923991e-274"
      ]
     },
     "metadata": {},
     "output_type": "display_data"
    },
    {
     "name": "stdout",
     "output_type": "stream",
     "text": [
      "effect of interaction?"
     ]
    },
    {
     "name": "stderr",
     "output_type": "stream",
     "text": [
      "refitting model(s) with ML (instead of REML)\n"
     ]
    },
    {
     "data": {
      "text/html": [
       "<table>\n",
       "<thead><tr><th></th><th scope=col>Df</th><th scope=col>AIC</th><th scope=col>BIC</th><th scope=col>logLik</th><th scope=col>deviance</th><th scope=col>Chisq</th><th scope=col>Chi Df</th><th scope=col>Pr(&gt;Chisq)</th></tr></thead>\n",
       "<tbody>\n",
       "\t<tr><th scope=row>mdl</th><td>5           </td><td>5997.210    </td><td>6022.447    </td><td>-2993.605   </td><td>5987.210    </td><td>      NA    </td><td>NA          </td><td>          NA</td></tr>\n",
       "\t<tr><th scope=row>full_mdl</th><td>6           </td><td>5855.134    </td><td>5885.419    </td><td>-2921.567   </td><td>5843.134    </td><td>144.0755    </td><td> 1          </td><td>3.420483e-33</td></tr>\n",
       "</tbody>\n",
       "</table>\n"
      ],
      "text/latex": [
       "\\begin{tabular}{r|llllllll}\n",
       "  & Df & AIC & BIC & logLik & deviance & Chisq & Chi Df & Pr(>Chisq)\\\\\n",
       "\\hline\n",
       "\tmdl & 5            & 5997.210     & 6022.447     & -2993.605    & 5987.210     &       NA     & NA           &           NA\\\\\n",
       "\tfull\\_mdl & 6            & 5855.134     & 5885.419     & -2921.567    & 5843.134     & 144.0755     &  1           & 3.420483e-33\\\\\n",
       "\\end{tabular}\n"
      ],
      "text/markdown": [
       "\n",
       "| <!--/--> | Df | AIC | BIC | logLik | deviance | Chisq | Chi Df | Pr(>Chisq) | \n",
       "|---|---|\n",
       "| mdl | 5            | 5997.210     | 6022.447     | -2993.605    | 5987.210     |       NA     | NA           |           NA | \n",
       "| full_mdl | 6            | 5855.134     | 5885.419     | -2921.567    | 5843.134     | 144.0755     |  1           | 3.420483e-33 | \n",
       "\n",
       "\n"
      ],
      "text/plain": [
       "         Df AIC      BIC      logLik    deviance Chisq    Chi Df Pr(>Chisq)  \n",
       "mdl      5  5997.210 6022.447 -2993.605 5987.210       NA NA               NA\n",
       "full_mdl 6  5855.134 5885.419 -2921.567 5843.134 144.0755  1     3.420483e-33"
      ]
     },
     "metadata": {},
     "output_type": "display_data"
    },
    {
     "name": "stdout",
     "output_type": "stream",
     "text": [
      "main effect of frame type?"
     ]
    },
    {
     "name": "stderr",
     "output_type": "stream",
     "text": [
      "refitting model(s) with ML (instead of REML)\n"
     ]
    },
    {
     "data": {
      "text/html": [
       "<table>\n",
       "<thead><tr><th></th><th scope=col>Df</th><th scope=col>AIC</th><th scope=col>BIC</th><th scope=col>logLik</th><th scope=col>deviance</th><th scope=col>Chisq</th><th scope=col>Chi Df</th><th scope=col>Pr(&gt;Chisq)</th></tr></thead>\n",
       "<tbody>\n",
       "\t<tr><th scope=row>YoE_only</th><td>4            </td><td>7109.312     </td><td>7129.502     </td><td>-3550.656    </td><td>7101.312     </td><td>      NA     </td><td>NA           </td><td>           NA</td></tr>\n",
       "\t<tr><th scope=row>full_mdl</th><td>6            </td><td>5855.134     </td><td>5885.419     </td><td>-2921.567    </td><td>5843.134     </td><td>1258.178     </td><td> 2           </td><td>6.168913e-274</td></tr>\n",
       "</tbody>\n",
       "</table>\n"
      ],
      "text/latex": [
       "\\begin{tabular}{r|llllllll}\n",
       "  & Df & AIC & BIC & logLik & deviance & Chisq & Chi Df & Pr(>Chisq)\\\\\n",
       "\\hline\n",
       "\tYoE\\_only & 4             & 7109.312      & 7129.502      & -3550.656     & 7101.312      &       NA      & NA            &            NA\\\\\n",
       "\tfull\\_mdl & 6             & 5855.134      & 5885.419      & -2921.567     & 5843.134      & 1258.178      &  2            & 6.168913e-274\\\\\n",
       "\\end{tabular}\n"
      ],
      "text/markdown": [
       "\n",
       "| <!--/--> | Df | AIC | BIC | logLik | deviance | Chisq | Chi Df | Pr(>Chisq) | \n",
       "|---|---|\n",
       "| YoE_only | 4             | 7109.312      | 7129.502      | -3550.656     | 7101.312      |       NA      | NA            |            NA | \n",
       "| full_mdl | 6             | 5855.134      | 5885.419      | -2921.567     | 5843.134      | 1258.178      |  2            | 6.168913e-274 | \n",
       "\n",
       "\n"
      ],
      "text/plain": [
       "         Df AIC      BIC      logLik    deviance Chisq    Chi Df Pr(>Chisq)   \n",
       "YoE_only 4  7109.312 7129.502 -3550.656 7101.312       NA NA                NA\n",
       "full_mdl 6  5855.134 5885.419 -2921.567 5843.134 1258.178  2     6.168913e-274"
      ]
     },
     "metadata": {},
     "output_type": "display_data"
    },
    {
     "name": "stdout",
     "output_type": "stream",
     "text": [
      "main effect of YoE?"
     ]
    },
    {
     "name": "stderr",
     "output_type": "stream",
     "text": [
      "refitting model(s) with ML (instead of REML)\n"
     ]
    },
    {
     "data": {
      "text/html": [
       "<table>\n",
       "<thead><tr><th></th><th scope=col>Df</th><th scope=col>AIC</th><th scope=col>BIC</th><th scope=col>logLik</th><th scope=col>deviance</th><th scope=col>Chisq</th><th scope=col>Chi Df</th><th scope=col>Pr(&gt;Chisq)</th></tr></thead>\n",
       "<tbody>\n",
       "\t<tr><th scope=row>frame_type_only</th><td>4           </td><td>6001.394    </td><td>6021.584    </td><td>-2996.697   </td><td>5993.394    </td><td>      NA    </td><td>NA          </td><td>          NA</td></tr>\n",
       "\t<tr><th scope=row>full_mdl</th><td>6           </td><td>5855.134    </td><td>5885.419    </td><td>-2921.567   </td><td>5843.134    </td><td>150.2603    </td><td> 2          </td><td>2.351755e-33</td></tr>\n",
       "</tbody>\n",
       "</table>\n"
      ],
      "text/latex": [
       "\\begin{tabular}{r|llllllll}\n",
       "  & Df & AIC & BIC & logLik & deviance & Chisq & Chi Df & Pr(>Chisq)\\\\\n",
       "\\hline\n",
       "\tframe\\_type\\_only & 4            & 6001.394     & 6021.584     & -2996.697    & 5993.394     &       NA     & NA           &           NA\\\\\n",
       "\tfull\\_mdl & 6            & 5855.134     & 5885.419     & -2921.567    & 5843.134     & 150.2603     &  2           & 2.351755e-33\\\\\n",
       "\\end{tabular}\n"
      ],
      "text/markdown": [
       "\n",
       "| <!--/--> | Df | AIC | BIC | logLik | deviance | Chisq | Chi Df | Pr(>Chisq) | \n",
       "|---|---|\n",
       "| frame_type_only | 4            | 6001.394     | 6021.584     | -2996.697    | 5993.394     |       NA     | NA           |           NA | \n",
       "| full_mdl | 6            | 5855.134     | 5885.419     | -2921.567    | 5843.134     | 150.2603     |  2           | 2.351755e-33 | \n",
       "\n",
       "\n"
      ],
      "text/plain": [
       "                Df AIC      BIC      logLik    deviance Chisq    Chi Df\n",
       "frame_type_only 4  6001.394 6021.584 -2996.697 5993.394       NA NA    \n",
       "full_mdl        6  5855.134 5885.419 -2921.567 5843.134 150.2603  2    \n",
       "                Pr(>Chisq)  \n",
       "frame_type_only           NA\n",
       "full_mdl        2.351755e-33"
      ]
     },
     "metadata": {},
     "output_type": "display_data"
    }
   ],
   "source": [
    "#stats\n",
    "\n",
    "require(\"lme4\")\n",
    "\n",
    "#predictor variable is centered so intercept is the earliest year of entry in our dataset. \n",
    "body_wrist_distances$YoE_centered <- body_wrist_distances$YoE - min(body_wrist_distances$YoE)\n",
    "\n",
    "full_mdl <- lmer(mean_body_wrist_dist ~ YoE_centered + is_utterance +  YoE_centered:is_utterance +(1|Signer), data = body_wrist_distances)\n",
    "mdl <- lmer(mean_body_wrist_dist ~ YoE_centered + is_utterance +(1|Signer), data = body_wrist_distances)\n",
    "\n",
    "YoE_only <- lmer(mean_body_wrist_dist ~ YoE_centered +(1|Signer), data = body_wrist_distances)\n",
    "frame_type_only <- lmer(mean_body_wrist_dist ~ is_utterance +(1|Signer), data = body_wrist_distances)\n",
    "\n",
    "null_mdl <- lmer(mean_body_wrist_dist ~ (1|Signer), data = body_wrist_distances)\n",
    "\n",
    "summary(full_mdl)\n",
    "\n",
    "cat(\"overall\")\n",
    "anova(full_mdl, null_mdl)\n",
    "\n",
    "cat(\"effect of interaction?\")\n",
    "anova(full_mdl, mdl)\n",
    "\n",
    "cat(\"main effect of frame type?\")\n",
    "anova(full_mdl, YoE_only)\n",
    "\n",
    "cat(\"main effect of YoE?\")\n",
    "anova(full_mdl, frame_type_only)\n",
    "\n"
   ]
  },
  {
   "cell_type": "markdown",
   "metadata": {},
   "source": [
    "## DISTANCE  (MEAN POSITION OF THE WRISTS)"
   ]
  },
  {
   "cell_type": "code",
   "execution_count": 157,
   "metadata": {
    "collapsed": false
   },
   "outputs": [
    {
     "data": {
      "text/html": [
       "<table>\n",
       "<thead><tr><th scope=col>Signer</th><th scope=col>mean_x</th><th scope=col>mean_y</th><th scope=col>mean_z</th><th scope=col>utt_mean_x</th><th scope=col>utt_mean_y</th><th scope=col>utt_mean_z</th><th scope=col>non_utt_mean_x</th><th scope=col>non_utt_mean_y</th><th scope=col>non_utt_mean_z</th></tr></thead>\n",
       "<tbody>\n",
       "\t<tr><td> 27        </td><td> 3.4841348 </td><td>29.60389   </td><td>30.42871   </td><td> 3.43840633</td><td>29.07597   </td><td>30.47875   </td><td> 3.5273539 </td><td>30.10284   </td><td>30.38141   </td></tr>\n",
       "\t<tr><td> 36        </td><td> 1.6544830 </td><td>36.43440   </td><td>26.74215   </td><td> 1.16393488</td><td>28.72018   </td><td>27.60861   </td><td> 1.8803037 </td><td>39.98559   </td><td>26.34328   </td></tr>\n",
       "\t<tr><td> 41        </td><td>-0.6666407 </td><td>30.50464   </td><td>30.64336   </td><td>-0.84180809</td><td>26.39725   </td><td>33.58869   </td><td>-0.4971052 </td><td>34.47996   </td><td>27.79274   </td></tr>\n",
       "\t<tr><td> 49        </td><td> 0.2940719 </td><td>30.18718   </td><td>28.85032   </td><td>-0.04722237</td><td>17.49275   </td><td>32.55606   </td><td> 0.5206075 </td><td>38.61316   </td><td>26.39061   </td></tr>\n",
       "\t<tr><td>145        </td><td> 3.4719842 </td><td>30.91175   </td><td>28.49754   </td><td> 3.87954259</td><td>19.44281   </td><td>29.95835   </td><td> 3.2204451 </td><td>37.99021   </td><td>27.59595   </td></tr>\n",
       "\t<tr><td>158        </td><td> 0.1432539 </td><td>35.71954   </td><td>24.83047   </td><td>-1.35495970</td><td>28.33478   </td><td>26.63402   </td><td> 1.3089446 </td><td>41.46528   </td><td>23.42721   </td></tr>\n",
       "</tbody>\n",
       "</table>\n"
      ],
      "text/latex": [
       "\\begin{tabular}{r|llllllllll}\n",
       " Signer & mean\\_x & mean\\_y & mean\\_z & utt\\_mean\\_x & utt\\_mean\\_y & utt\\_mean\\_z & non\\_utt\\_mean\\_x & non\\_utt\\_mean\\_y & non\\_utt\\_mean\\_z\\\\\n",
       "\\hline\n",
       "\t  27         &  3.4841348  & 29.60389    & 30.42871    &  3.43840633 & 29.07597    & 30.47875    &  3.5273539  & 30.10284    & 30.38141   \\\\\n",
       "\t  36         &  1.6544830  & 36.43440    & 26.74215    &  1.16393488 & 28.72018    & 27.60861    &  1.8803037  & 39.98559    & 26.34328   \\\\\n",
       "\t  41         & -0.6666407  & 30.50464    & 30.64336    & -0.84180809 & 26.39725    & 33.58869    & -0.4971052  & 34.47996    & 27.79274   \\\\\n",
       "\t  49         &  0.2940719  & 30.18718    & 28.85032    & -0.04722237 & 17.49275    & 32.55606    &  0.5206075  & 38.61316    & 26.39061   \\\\\n",
       "\t 145         &  3.4719842  & 30.91175    & 28.49754    &  3.87954259 & 19.44281    & 29.95835    &  3.2204451  & 37.99021    & 27.59595   \\\\\n",
       "\t 158         &  0.1432539  & 35.71954    & 24.83047    & -1.35495970 & 28.33478    & 26.63402    &  1.3089446  & 41.46528    & 23.42721   \\\\\n",
       "\\end{tabular}\n"
      ],
      "text/markdown": [
       "\n",
       "Signer | mean_x | mean_y | mean_z | utt_mean_x | utt_mean_y | utt_mean_z | non_utt_mean_x | non_utt_mean_y | non_utt_mean_z | \n",
       "|---|---|---|---|---|---|\n",
       "|  27         |  3.4841348  | 29.60389    | 30.42871    |  3.43840633 | 29.07597    | 30.47875    |  3.5273539  | 30.10284    | 30.38141    | \n",
       "|  36         |  1.6544830  | 36.43440    | 26.74215    |  1.16393488 | 28.72018    | 27.60861    |  1.8803037  | 39.98559    | 26.34328    | \n",
       "|  41         | -0.6666407  | 30.50464    | 30.64336    | -0.84180809 | 26.39725    | 33.58869    | -0.4971052  | 34.47996    | 27.79274    | \n",
       "|  49         |  0.2940719  | 30.18718    | 28.85032    | -0.04722237 | 17.49275    | 32.55606    |  0.5206075  | 38.61316    | 26.39061    | \n",
       "| 145         |  3.4719842  | 30.91175    | 28.49754    |  3.87954259 | 19.44281    | 29.95835    |  3.2204451  | 37.99021    | 27.59595    | \n",
       "| 158         |  0.1432539  | 35.71954    | 24.83047    | -1.35495970 | 28.33478    | 26.63402    |  1.3089446  | 41.46528    | 23.42721    | \n",
       "\n",
       "\n"
      ],
      "text/plain": [
       "  Signer mean_x     mean_y   mean_z   utt_mean_x  utt_mean_y utt_mean_z\n",
       "1  27     3.4841348 29.60389 30.42871  3.43840633 29.07597   30.47875  \n",
       "2  36     1.6544830 36.43440 26.74215  1.16393488 28.72018   27.60861  \n",
       "3  41    -0.6666407 30.50464 30.64336 -0.84180809 26.39725   33.58869  \n",
       "4  49     0.2940719 30.18718 28.85032 -0.04722237 17.49275   32.55606  \n",
       "5 145     3.4719842 30.91175 28.49754  3.87954259 19.44281   29.95835  \n",
       "6 158     0.1432539 35.71954 24.83047 -1.35495970 28.33478   26.63402  \n",
       "  non_utt_mean_x non_utt_mean_y non_utt_mean_z\n",
       "1  3.5273539     30.10284       30.38141      \n",
       "2  1.8803037     39.98559       26.34328      \n",
       "3 -0.4971052     34.47996       27.79274      \n",
       "4  0.5206075     38.61316       26.39061      \n",
       "5  3.2204451     37.99021       27.59595      \n",
       "6  1.3089446     41.46528       23.42721      "
      ]
     },
     "metadata": {},
     "output_type": "display_data"
    }
   ],
   "source": [
    "# find the mean position of the wrists of each signer over the whole session, \n",
    "# we also get the mean position of the wrists separately for utterance data and non-utterance data\n",
    "# as we expect these to be differently distributed\n",
    "\n",
    "#empty vectors for storing values\n",
    "ids <- c()\n",
    "mean_x_pos <- c()\n",
    "mean_y_pos <- c()\n",
    "mean_z_pos <- c()\n",
    "\n",
    "utt_x_pos <- c()\n",
    "utt_y_pos <- c()\n",
    "utt_z_pos <- c()\n",
    "\n",
    "non_utt_x_pos <- c()\n",
    "non_utt_y_pos <- c()\n",
    "non_utt_z_pos <- c()\n",
    "\n",
    "#colnames(body_data)\n",
    "for (signer in unique(body_data$id)) {\n",
    "    iD <- signer\n",
    "#      print(iD)\n",
    "     df <- subset(body_data, ppt == iD)\n",
    "    \n",
    "     #whole session mean positions:\n",
    "    \n",
    "     mean_x <- mean(c(df$WRIST_LEFT_X, df$WRIST_RIGHT_X))\n",
    "     mean_y <- mean(c(df$WRIST_LEFT_Y, df$WRIST_RIGHT_Y))\n",
    "     mean_z <- mean(c(df$WRIST_LEFT_Z, df$WRIST_RIGHT_Z))\n",
    "    \n",
    "     utt_x <- mean(c(subset(df, is_utterance == 1)$WRIST_LEFT_X, (subset(df, is_utterance == 1)$WRIST_RIGHT_X)))\n",
    "     utt_y <- mean(c(subset(df, is_utterance == 1)$WRIST_LEFT_Y, (subset(df, is_utterance == 1)$WRIST_RIGHT_Y)))\n",
    "     utt_z <- mean(c(subset(df, is_utterance == 1)$WRIST_LEFT_Z, (subset(df, is_utterance == 1)$WRIST_RIGHT_Z)))\n",
    "\n",
    "     non_utt_x <- mean(c(subset(df, is_utterance == 0)$WRIST_LEFT_X, (subset(df, is_utterance == 0)$WRIST_RIGHT_X)))\n",
    "     non_utt_y <- mean(c(subset(df, is_utterance == 0)$WRIST_LEFT_Y, (subset(df, is_utterance == 0)$WRIST_RIGHT_Y)))\n",
    "     non_utt_z <- mean(c(subset(df, is_utterance == 0)$WRIST_LEFT_Z, (subset(df, is_utterance == 0)$WRIST_RIGHT_Z)))\n",
    "   \n",
    "                   \n",
    "#     #add to vectors\n",
    "    ids <- c(ids, iD)\n",
    "    \n",
    "    mean_x_pos <- c(mean_x_pos, mean_x)\n",
    "    mean_y_pos <- c(mean_y_pos, mean_y)\n",
    "    mean_z_pos <- c(mean_z_pos, mean_z)\n",
    "    \n",
    "    utt_x_pos <- c(utt_x_pos, utt_x)\n",
    "    utt_y_pos <- c(utt_y_pos, utt_y)\n",
    "    utt_z_pos <- c(utt_z_pos, utt_z)\n",
    "\n",
    "    non_utt_x_pos <- c(non_utt_x_pos, non_utt_x)\n",
    "    non_utt_y_pos <- c(non_utt_y_pos, non_utt_y)\n",
    "    non_utt_z_pos <- c(non_utt_z_pos, non_utt_z)\n",
    "      \n",
    "}\n",
    "\n",
    "mean_wrist_positions <- as.data.frame(cbind(\"Signer\" = ids, \n",
    "                                            \"mean_x\" = mean_x_pos,\n",
    "                                           \"mean_y\" = mean_y_pos,\n",
    "                                           \"mean_z\" = mean_z_pos,\n",
    "                                           \"utt_mean_x\" = utt_x_pos,\n",
    "                                           \"utt_mean_y\" = utt_y_pos,\n",
    "                                           \"utt_mean_z\" = utt_z_pos,\n",
    "                                           \"non_utt_mean_x\" = non_utt_x_pos,\n",
    "                                           \"non_utt_mean_y\" = non_utt_y_pos,\n",
    "                                           \"non_utt_mean_z\" = non_utt_z_pos\n",
    "                                           ))\n",
    "\n",
    "head(mean_wrist_positions)\n"
   ]
  },
  {
   "cell_type": "code",
   "execution_count": 183,
   "metadata": {
    "collapsed": false
   },
   "outputs": [
    {
     "data": {
      "text/plain": [
       "\n",
       "\tWelch Two Sample t-test\n",
       "\n",
       "data:  mean_wrist_positions$utt_mean_y and mean_wrist_positions$non_utt_mean_y\n",
       "t = -8.3147, df = 30.893, p-value = 2.22e-09\n",
       "alternative hypothesis: true difference in means is not equal to 0\n",
       "95 percent confidence interval:\n",
       " -18.41195 -11.15774\n",
       "sample estimates:\n",
       "mean of x mean of y \n",
       " 21.19877  35.98362 \n"
      ]
     },
     "metadata": {},
     "output_type": "display_data"
    }
   ],
   "source": [
    "# note that the mean position (height) of the wrists is significantly different for utterance data and non-utterance data:\n",
    "t.test(mean_wrist_positions$utt_mean_y, mean_wrist_positions$non_utt_mean_y)"
   ]
  },
  {
   "cell_type": "code",
   "execution_count": 165,
   "metadata": {
    "collapsed": false
   },
   "outputs": [
    {
     "data": {
      "text/html": [
       "<table>\n",
       "<thead><tr><th scope=col>Signer</th><th scope=col>cohort</th><th scope=col>YoE</th><th scope=col>mean_x</th><th scope=col>mean_y</th><th scope=col>mean_z</th><th scope=col>utt_mean_x</th><th scope=col>utt_mean_y</th><th scope=col>utt_mean_z</th><th scope=col>non_utt_mean_x</th><th scope=col>non_utt_mean_y</th><th scope=col>non_utt_mean_z</th></tr></thead>\n",
       "<tbody>\n",
       "\t<tr><td>145       </td><td>2         </td><td>1990      </td><td> 3.4719842</td><td>30.91175  </td><td>28.49754  </td><td> 3.879543 </td><td>19.44281  </td><td>29.95835  </td><td> 3.220445 </td><td>37.99021  </td><td>27.59595  </td></tr>\n",
       "\t<tr><td>158       </td><td>2         </td><td>1986      </td><td> 0.1432539</td><td>35.71954  </td><td>24.83047  </td><td>-1.354960 </td><td>28.33478  </td><td>26.63402  </td><td> 1.308945 </td><td>41.46528  </td><td>23.42721  </td></tr>\n",
       "\t<tr><td>159       </td><td>2         </td><td>1986      </td><td>-0.1671840</td><td>35.53934  </td><td>27.61010  </td><td> 1.216591 </td><td>26.21596  </td><td>30.29413  </td><td>-1.152503 </td><td>42.17807  </td><td>25.69894  </td></tr>\n",
       "</tbody>\n",
       "</table>\n"
      ],
      "text/latex": [
       "\\begin{tabular}{r|llllllllllll}\n",
       " Signer & cohort & YoE & mean\\_x & mean\\_y & mean\\_z & utt\\_mean\\_x & utt\\_mean\\_y & utt\\_mean\\_z & non\\_utt\\_mean\\_x & non\\_utt\\_mean\\_y & non\\_utt\\_mean\\_z\\\\\n",
       "\\hline\n",
       "\t 145        & 2          & 1990       &  3.4719842 & 30.91175   & 28.49754   &  3.879543  & 19.44281   & 29.95835   &  3.220445  & 37.99021   & 27.59595  \\\\\n",
       "\t 158        & 2          & 1986       &  0.1432539 & 35.71954   & 24.83047   & -1.354960  & 28.33478   & 26.63402   &  1.308945  & 41.46528   & 23.42721  \\\\\n",
       "\t 159        & 2          & 1986       & -0.1671840 & 35.53934   & 27.61010   &  1.216591  & 26.21596   & 30.29413   & -1.152503  & 42.17807   & 25.69894  \\\\\n",
       "\\end{tabular}\n"
      ],
      "text/markdown": [
       "\n",
       "Signer | cohort | YoE | mean_x | mean_y | mean_z | utt_mean_x | utt_mean_y | utt_mean_z | non_utt_mean_x | non_utt_mean_y | non_utt_mean_z | \n",
       "|---|---|---|\n",
       "| 145        | 2          | 1990       |  3.4719842 | 30.91175   | 28.49754   |  3.879543  | 19.44281   | 29.95835   |  3.220445  | 37.99021   | 27.59595   | \n",
       "| 158        | 2          | 1986       |  0.1432539 | 35.71954   | 24.83047   | -1.354960  | 28.33478   | 26.63402   |  1.308945  | 41.46528   | 23.42721   | \n",
       "| 159        | 2          | 1986       | -0.1671840 | 35.53934   | 27.61010   |  1.216591  | 26.21596   | 30.29413   | -1.152503  | 42.17807   | 25.69894   | \n",
       "\n",
       "\n"
      ],
      "text/plain": [
       "  Signer cohort YoE  mean_x     mean_y   mean_z   utt_mean_x utt_mean_y\n",
       "1 145    2      1990  3.4719842 30.91175 28.49754  3.879543  19.44281  \n",
       "2 158    2      1986  0.1432539 35.71954 24.83047 -1.354960  28.33478  \n",
       "3 159    2      1986 -0.1671840 35.53934 27.61010  1.216591  26.21596  \n",
       "  utt_mean_z non_utt_mean_x non_utt_mean_y non_utt_mean_z\n",
       "1 29.95835    3.220445      37.99021       27.59595      \n",
       "2 26.63402    1.308945      41.46528       23.42721      \n",
       "3 30.29413   -1.152503      42.17807       25.69894      "
      ]
     },
     "metadata": {},
     "output_type": "display_data"
    }
   ],
   "source": [
    "# merge with Year of Entry\n",
    "YoE <- read.csv(\"year_of_entry.csv\")\n",
    "mean_wrist_positions <- merge(YoE,mean_wrist_positions)\n",
    "head(mean_wrist_positions,3)"
   ]
  },
  {
   "cell_type": "code",
   "execution_count": 175,
   "metadata": {
    "collapsed": false
   },
   "outputs": [
    {
     "data": {
      "text/html": [
       "<table>\n",
       "<thead><tr><th scope=col>id</th><th scope=col>frame</th><th scope=col>X</th><th scope=col>TimeStamp</th><th scope=col>skeletonID</th><th scope=col>HIP_CENTER_X</th><th scope=col>HIP_CENTER_Y</th><th scope=col>HIP_CENTER_Z</th><th scope=col>HIP_CENTER_TRACKSTATE</th><th scope=col>SPINE_X</th><th scope=col>⋯</th><th scope=col>YoE</th><th scope=col>mean_x</th><th scope=col>mean_y</th><th scope=col>mean_z</th><th scope=col>utt_mean_x</th><th scope=col>utt_mean_y</th><th scope=col>utt_mean_z</th><th scope=col>non_utt_mean_x</th><th scope=col>non_utt_mean_y</th><th scope=col>non_utt_mean_z</th></tr></thead>\n",
       "<tbody>\n",
       "\t<tr><td>27       </td><td>1        </td><td>95757    </td><td>     0   </td><td>p27      </td><td>1.0822322</td><td>47.14464 </td><td>12.35252 </td><td>2        </td><td>0.1706741</td><td>⋯        </td><td>1977     </td><td>3.484135 </td><td>29.60389 </td><td>30.42871 </td><td>3.438406 </td><td>29.07597 </td><td>30.47875 </td><td>3.527354 </td><td>30.10284 </td><td>30.38141 </td></tr>\n",
       "\t<tr><td>27       </td><td>2        </td><td>95758    </td><td>330000   </td><td>p27      </td><td>1.0267540</td><td>47.14464 </td><td>12.31889 </td><td>2        </td><td>0.1706741</td><td>⋯        </td><td>1977     </td><td>3.484135 </td><td>29.60389 </td><td>30.42871 </td><td>3.438406 </td><td>29.07597 </td><td>30.47875 </td><td>3.527354 </td><td>30.10284 </td><td>30.38141 </td></tr>\n",
       "\t<tr><td>27       </td><td>3        </td><td>95759    </td><td>660000   </td><td>p27      </td><td>0.9836366</td><td>47.14464 </td><td>12.34791 </td><td>2        </td><td>0.1830348</td><td>⋯        </td><td>1977     </td><td>3.484135 </td><td>29.60389 </td><td>30.42871 </td><td>3.438406 </td><td>29.07597 </td><td>30.47875 </td><td>3.527354 </td><td>30.10284 </td><td>30.38141 </td></tr>\n",
       "</tbody>\n",
       "</table>\n"
      ],
      "text/latex": [
       "\\begin{tabular}{r|lllllllllllllllllllllllllllllllllllllllllllllllllllllllllllllllllllllllllllllllllllllllllllllllllllllllllllllllllllllllllll}\n",
       " id & frame & X & TimeStamp & skeletonID & HIP\\_CENTER\\_X & HIP\\_CENTER\\_Y & HIP\\_CENTER\\_Z & HIP\\_CENTER\\_TRACKSTATE & SPINE\\_X & ⋯ & YoE & mean\\_x & mean\\_y & mean\\_z & utt\\_mean\\_x & utt\\_mean\\_y & utt\\_mean\\_z & non\\_utt\\_mean\\_x & non\\_utt\\_mean\\_y & non\\_utt\\_mean\\_z\\\\\n",
       "\\hline\n",
       "\t 27        & 1         & 95757     &      0    & p27       & 1.0822322 & 47.14464  & 12.35252  & 2         & 0.1706741 & ⋯         & 1977      & 3.484135  & 29.60389  & 30.42871  & 3.438406  & 29.07597  & 30.47875  & 3.527354  & 30.10284  & 30.38141 \\\\\n",
       "\t 27        & 2         & 95758     & 330000    & p27       & 1.0267540 & 47.14464  & 12.31889  & 2         & 0.1706741 & ⋯         & 1977      & 3.484135  & 29.60389  & 30.42871  & 3.438406  & 29.07597  & 30.47875  & 3.527354  & 30.10284  & 30.38141 \\\\\n",
       "\t 27        & 3         & 95759     & 660000    & p27       & 0.9836366 & 47.14464  & 12.34791  & 2         & 0.1830348 & ⋯         & 1977      & 3.484135  & 29.60389  & 30.42871  & 3.438406  & 29.07597  & 30.47875  & 3.527354  & 30.10284  & 30.38141 \\\\\n",
       "\\end{tabular}\n"
      ],
      "text/markdown": [
       "\n",
       "id | frame | X | TimeStamp | skeletonID | HIP_CENTER_X | HIP_CENTER_Y | HIP_CENTER_Z | HIP_CENTER_TRACKSTATE | SPINE_X | ⋯ | YoE | mean_x | mean_y | mean_z | utt_mean_x | utt_mean_y | utt_mean_z | non_utt_mean_x | non_utt_mean_y | non_utt_mean_z | \n",
       "|---|---|---|\n",
       "| 27        | 1         | 95757     |      0    | p27       | 1.0822322 | 47.14464  | 12.35252  | 2         | 0.1706741 | ⋯         | 1977      | 3.484135  | 29.60389  | 30.42871  | 3.438406  | 29.07597  | 30.47875  | 3.527354  | 30.10284  | 30.38141  | \n",
       "| 27        | 2         | 95758     | 330000    | p27       | 1.0267540 | 47.14464  | 12.31889  | 2         | 0.1706741 | ⋯         | 1977      | 3.484135  | 29.60389  | 30.42871  | 3.438406  | 29.07597  | 30.47875  | 3.527354  | 30.10284  | 30.38141  | \n",
       "| 27        | 3         | 95759     | 660000    | p27       | 0.9836366 | 47.14464  | 12.34791  | 2         | 0.1830348 | ⋯         | 1977      | 3.484135  | 29.60389  | 30.42871  | 3.438406  | 29.07597  | 30.47875  | 3.527354  | 30.10284  | 30.38141  | \n",
       "\n",
       "\n"
      ],
      "text/plain": [
       "  id frame X     TimeStamp skeletonID HIP_CENTER_X HIP_CENTER_Y HIP_CENTER_Z\n",
       "1 27 1     95757      0    p27        1.0822322    47.14464     12.35252    \n",
       "2 27 2     95758 330000    p27        1.0267540    47.14464     12.31889    \n",
       "3 27 3     95759 660000    p27        0.9836366    47.14464     12.34791    \n",
       "  HIP_CENTER_TRACKSTATE SPINE_X   ⋯ YoE  mean_x   mean_y   mean_z   utt_mean_x\n",
       "1 2                     0.1706741 ⋯ 1977 3.484135 29.60389 30.42871 3.438406  \n",
       "2 2                     0.1706741 ⋯ 1977 3.484135 29.60389 30.42871 3.438406  \n",
       "3 2                     0.1830348 ⋯ 1977 3.484135 29.60389 30.42871 3.438406  \n",
       "  utt_mean_y utt_mean_z non_utt_mean_x non_utt_mean_y non_utt_mean_z\n",
       "1 29.07597   30.47875   3.527354       30.10284       30.38141      \n",
       "2 29.07597   30.47875   3.527354       30.10284       30.38141      \n",
       "3 29.07597   30.47875   3.527354       30.10284       30.38141      "
      ]
     },
     "metadata": {},
     "output_type": "display_data"
    }
   ],
   "source": [
    "# merge mean positions into body data\n",
    "\n",
    "body_data <- merge(body_data, mean_wrist_positions, by.x = \"id\", by.y = \"Signer\")\n",
    "head(body_data,3)"
   ]
  },
  {
   "cell_type": "code",
   "execution_count": 176,
   "metadata": {
    "collapsed": false
   },
   "outputs": [
    {
     "data": {
      "text/html": [
       "<table>\n",
       "<thead><tr><th scope=col>id</th><th scope=col>frame</th><th scope=col>X</th><th scope=col>TimeStamp</th><th scope=col>skeletonID</th><th scope=col>HIP_CENTER_X</th><th scope=col>HIP_CENTER_Y</th><th scope=col>HIP_CENTER_Z</th><th scope=col>HIP_CENTER_TRACKSTATE</th><th scope=col>SPINE_X</th><th scope=col>⋯</th><th scope=col>mean_y</th><th scope=col>mean_z</th><th scope=col>utt_mean_x</th><th scope=col>utt_mean_y</th><th scope=col>utt_mean_z</th><th scope=col>non_utt_mean_x</th><th scope=col>non_utt_mean_y</th><th scope=col>non_utt_mean_z</th><th scope=col>left_mp_dist</th><th scope=col>right_mp_dist</th></tr></thead>\n",
       "<tbody>\n",
       "\t<tr><td>27       </td><td>1        </td><td>95757    </td><td>     0   </td><td>p27      </td><td>1.0822322</td><td>47.14464 </td><td>12.35252 </td><td>2        </td><td>0.1706741</td><td>⋯        </td><td>29.60389 </td><td>30.42871 </td><td>3.438406 </td><td>29.07597 </td><td>30.47875 </td><td>3.527354 </td><td>30.10284 </td><td>30.38141 </td><td>25.35109 </td><td>32.17484 </td></tr>\n",
       "\t<tr><td>27       </td><td>2        </td><td>95758    </td><td>330000   </td><td>p27      </td><td>1.0267540</td><td>47.14464 </td><td>12.31889 </td><td>2        </td><td>0.1706741</td><td>⋯        </td><td>29.60389 </td><td>30.42871 </td><td>3.438406 </td><td>29.07597 </td><td>30.47875 </td><td>3.527354 </td><td>30.10284 </td><td>30.38141 </td><td>24.84583 </td><td>32.14968 </td></tr>\n",
       "\t<tr><td>27       </td><td>3        </td><td>95759    </td><td>660000   </td><td>p27      </td><td>0.9836366</td><td>47.14464 </td><td>12.34791 </td><td>2        </td><td>0.1830348</td><td>⋯        </td><td>29.60389 </td><td>30.42871 </td><td>3.438406 </td><td>29.07597 </td><td>30.47875 </td><td>3.527354 </td><td>30.10284 </td><td>30.38141 </td><td>24.36886 </td><td>32.12554 </td></tr>\n",
       "</tbody>\n",
       "</table>\n"
      ],
      "text/latex": [
       "\\begin{tabular}{r|lllllllllllllllllllllllllllllllllllllllllllllllllllllllllllllllllllllllllllllllllllllllllllllllllllllllllllllllllllllllllllll}\n",
       " id & frame & X & TimeStamp & skeletonID & HIP\\_CENTER\\_X & HIP\\_CENTER\\_Y & HIP\\_CENTER\\_Z & HIP\\_CENTER\\_TRACKSTATE & SPINE\\_X & ⋯ & mean\\_y & mean\\_z & utt\\_mean\\_x & utt\\_mean\\_y & utt\\_mean\\_z & non\\_utt\\_mean\\_x & non\\_utt\\_mean\\_y & non\\_utt\\_mean\\_z & left\\_mp\\_dist & right\\_mp\\_dist\\\\\n",
       "\\hline\n",
       "\t 27        & 1         & 95757     &      0    & p27       & 1.0822322 & 47.14464  & 12.35252  & 2         & 0.1706741 & ⋯         & 29.60389  & 30.42871  & 3.438406  & 29.07597  & 30.47875  & 3.527354  & 30.10284  & 30.38141  & 25.35109  & 32.17484 \\\\\n",
       "\t 27        & 2         & 95758     & 330000    & p27       & 1.0267540 & 47.14464  & 12.31889  & 2         & 0.1706741 & ⋯         & 29.60389  & 30.42871  & 3.438406  & 29.07597  & 30.47875  & 3.527354  & 30.10284  & 30.38141  & 24.84583  & 32.14968 \\\\\n",
       "\t 27        & 3         & 95759     & 660000    & p27       & 0.9836366 & 47.14464  & 12.34791  & 2         & 0.1830348 & ⋯         & 29.60389  & 30.42871  & 3.438406  & 29.07597  & 30.47875  & 3.527354  & 30.10284  & 30.38141  & 24.36886  & 32.12554 \\\\\n",
       "\\end{tabular}\n"
      ],
      "text/markdown": [
       "\n",
       "id | frame | X | TimeStamp | skeletonID | HIP_CENTER_X | HIP_CENTER_Y | HIP_CENTER_Z | HIP_CENTER_TRACKSTATE | SPINE_X | ⋯ | mean_y | mean_z | utt_mean_x | utt_mean_y | utt_mean_z | non_utt_mean_x | non_utt_mean_y | non_utt_mean_z | left_mp_dist | right_mp_dist | \n",
       "|---|---|---|\n",
       "| 27        | 1         | 95757     |      0    | p27       | 1.0822322 | 47.14464  | 12.35252  | 2         | 0.1706741 | ⋯         | 29.60389  | 30.42871  | 3.438406  | 29.07597  | 30.47875  | 3.527354  | 30.10284  | 30.38141  | 25.35109  | 32.17484  | \n",
       "| 27        | 2         | 95758     | 330000    | p27       | 1.0267540 | 47.14464  | 12.31889  | 2         | 0.1706741 | ⋯         | 29.60389  | 30.42871  | 3.438406  | 29.07597  | 30.47875  | 3.527354  | 30.10284  | 30.38141  | 24.84583  | 32.14968  | \n",
       "| 27        | 3         | 95759     | 660000    | p27       | 0.9836366 | 47.14464  | 12.34791  | 2         | 0.1830348 | ⋯         | 29.60389  | 30.42871  | 3.438406  | 29.07597  | 30.47875  | 3.527354  | 30.10284  | 30.38141  | 24.36886  | 32.12554  | \n",
       "\n",
       "\n"
      ],
      "text/plain": [
       "  id frame X     TimeStamp skeletonID HIP_CENTER_X HIP_CENTER_Y HIP_CENTER_Z\n",
       "1 27 1     95757      0    p27        1.0822322    47.14464     12.35252    \n",
       "2 27 2     95758 330000    p27        1.0267540    47.14464     12.31889    \n",
       "3 27 3     95759 660000    p27        0.9836366    47.14464     12.34791    \n",
       "  HIP_CENTER_TRACKSTATE SPINE_X   ⋯ mean_y   mean_z   utt_mean_x utt_mean_y\n",
       "1 2                     0.1706741 ⋯ 29.60389 30.42871 3.438406   29.07597  \n",
       "2 2                     0.1706741 ⋯ 29.60389 30.42871 3.438406   29.07597  \n",
       "3 2                     0.1830348 ⋯ 29.60389 30.42871 3.438406   29.07597  \n",
       "  utt_mean_z non_utt_mean_x non_utt_mean_y non_utt_mean_z left_mp_dist\n",
       "1 30.47875   3.527354       30.10284       30.38141       25.35109    \n",
       "2 30.47875   3.527354       30.10284       30.38141       24.84583    \n",
       "3 30.47875   3.527354       30.10284       30.38141       24.36886    \n",
       "  right_mp_dist\n",
       "1 32.17484     \n",
       "2 32.14968     \n",
       "3 32.12554     "
      ]
     },
     "metadata": {},
     "output_type": "display_data"
    }
   ],
   "source": [
    "# frame by frame distance to mean wrist position (whole session mean)\n",
    "\n",
    "# Pythagoras -the distance d between two points a and b in 3D space is given by\n",
    "# d = sqrt((ax-bx)^2+(ay-by)^2+(az-bz)^2) \n",
    "\n",
    "body_data$left_mp_dist <- sqrt( (body_data$WRIST_LEFT_X - body_data$mean_x)^2 +\n",
    "                                      (body_data$WRIST_LEFT_Y - body_data$mean_y)^2+\n",
    "                                      (body_data$WRIST_LEFT_Z - body_data$mean_z)^2 )\n",
    "\n",
    "body_data$right_mp_dist <- sqrt( (body_data$WRIST_RIGHT_X - body_data$mean_x)^2 +\n",
    "                                      (body_data$WRIST_RIGHT_Y - body_data$mean_y)^2+\n",
    "                                      (body_data$WRIST_RIGHT_Z - body_data$mean_z)^2 )\n",
    "\n",
    "head(body_data,3)"
   ]
  },
  {
   "cell_type": "code",
   "execution_count": 177,
   "metadata": {
    "collapsed": false
   },
   "outputs": [
    {
     "data": {
      "text/html": [
       "<table>\n",
       "<thead><tr><th scope=col>id</th><th scope=col>frame</th><th scope=col>X</th><th scope=col>TimeStamp</th><th scope=col>skeletonID</th><th scope=col>HIP_CENTER_X</th><th scope=col>HIP_CENTER_Y</th><th scope=col>HIP_CENTER_Z</th><th scope=col>HIP_CENTER_TRACKSTATE</th><th scope=col>SPINE_X</th><th scope=col>⋯</th><th scope=col>mean_z</th><th scope=col>utt_mean_x</th><th scope=col>utt_mean_y</th><th scope=col>utt_mean_z</th><th scope=col>non_utt_mean_x</th><th scope=col>non_utt_mean_y</th><th scope=col>non_utt_mean_z</th><th scope=col>left_mp_dist</th><th scope=col>right_mp_dist</th><th scope=col>mean_mp_dist</th></tr></thead>\n",
       "<tbody>\n",
       "\t<tr><td>27       </td><td>1        </td><td>95757    </td><td>     0   </td><td>p27      </td><td>1.0822322</td><td>47.14464 </td><td>12.35252 </td><td>2        </td><td>0.1706741</td><td>⋯        </td><td>30.42871 </td><td>3.438406 </td><td>29.07597 </td><td>30.47875 </td><td>3.527354 </td><td>30.10284 </td><td>30.38141 </td><td>25.35109 </td><td>32.17484 </td><td>28.76297 </td></tr>\n",
       "\t<tr><td>27       </td><td>2        </td><td>95758    </td><td>330000   </td><td>p27      </td><td>1.0267540</td><td>47.14464 </td><td>12.31889 </td><td>2        </td><td>0.1706741</td><td>⋯        </td><td>30.42871 </td><td>3.438406 </td><td>29.07597 </td><td>30.47875 </td><td>3.527354 </td><td>30.10284 </td><td>30.38141 </td><td>24.84583 </td><td>32.14968 </td><td>28.49776 </td></tr>\n",
       "\t<tr><td>27       </td><td>3        </td><td>95759    </td><td>660000   </td><td>p27      </td><td>0.9836366</td><td>47.14464 </td><td>12.34791 </td><td>2        </td><td>0.1830348</td><td>⋯        </td><td>30.42871 </td><td>3.438406 </td><td>29.07597 </td><td>30.47875 </td><td>3.527354 </td><td>30.10284 </td><td>30.38141 </td><td>24.36886 </td><td>32.12554 </td><td>28.24720 </td></tr>\n",
       "</tbody>\n",
       "</table>\n"
      ],
      "text/latex": [
       "\\begin{tabular}{r|llllllllllllllllllllllllllllllllllllllllllllllllllllllllllllllllllllllllllllllllllllllllllllllllllllllllllllllllllllllllllllll}\n",
       " id & frame & X & TimeStamp & skeletonID & HIP\\_CENTER\\_X & HIP\\_CENTER\\_Y & HIP\\_CENTER\\_Z & HIP\\_CENTER\\_TRACKSTATE & SPINE\\_X & ⋯ & mean\\_z & utt\\_mean\\_x & utt\\_mean\\_y & utt\\_mean\\_z & non\\_utt\\_mean\\_x & non\\_utt\\_mean\\_y & non\\_utt\\_mean\\_z & left\\_mp\\_dist & right\\_mp\\_dist & mean\\_mp\\_dist\\\\\n",
       "\\hline\n",
       "\t 27        & 1         & 95757     &      0    & p27       & 1.0822322 & 47.14464  & 12.35252  & 2         & 0.1706741 & ⋯         & 30.42871  & 3.438406  & 29.07597  & 30.47875  & 3.527354  & 30.10284  & 30.38141  & 25.35109  & 32.17484  & 28.76297 \\\\\n",
       "\t 27        & 2         & 95758     & 330000    & p27       & 1.0267540 & 47.14464  & 12.31889  & 2         & 0.1706741 & ⋯         & 30.42871  & 3.438406  & 29.07597  & 30.47875  & 3.527354  & 30.10284  & 30.38141  & 24.84583  & 32.14968  & 28.49776 \\\\\n",
       "\t 27        & 3         & 95759     & 660000    & p27       & 0.9836366 & 47.14464  & 12.34791  & 2         & 0.1830348 & ⋯         & 30.42871  & 3.438406  & 29.07597  & 30.47875  & 3.527354  & 30.10284  & 30.38141  & 24.36886  & 32.12554  & 28.24720 \\\\\n",
       "\\end{tabular}\n"
      ],
      "text/markdown": [
       "\n",
       "id | frame | X | TimeStamp | skeletonID | HIP_CENTER_X | HIP_CENTER_Y | HIP_CENTER_Z | HIP_CENTER_TRACKSTATE | SPINE_X | ⋯ | mean_z | utt_mean_x | utt_mean_y | utt_mean_z | non_utt_mean_x | non_utt_mean_y | non_utt_mean_z | left_mp_dist | right_mp_dist | mean_mp_dist | \n",
       "|---|---|---|\n",
       "| 27        | 1         | 95757     |      0    | p27       | 1.0822322 | 47.14464  | 12.35252  | 2         | 0.1706741 | ⋯         | 30.42871  | 3.438406  | 29.07597  | 30.47875  | 3.527354  | 30.10284  | 30.38141  | 25.35109  | 32.17484  | 28.76297  | \n",
       "| 27        | 2         | 95758     | 330000    | p27       | 1.0267540 | 47.14464  | 12.31889  | 2         | 0.1706741 | ⋯         | 30.42871  | 3.438406  | 29.07597  | 30.47875  | 3.527354  | 30.10284  | 30.38141  | 24.84583  | 32.14968  | 28.49776  | \n",
       "| 27        | 3         | 95759     | 660000    | p27       | 0.9836366 | 47.14464  | 12.34791  | 2         | 0.1830348 | ⋯         | 30.42871  | 3.438406  | 29.07597  | 30.47875  | 3.527354  | 30.10284  | 30.38141  | 24.36886  | 32.12554  | 28.24720  | \n",
       "\n",
       "\n"
      ],
      "text/plain": [
       "  id frame X     TimeStamp skeletonID HIP_CENTER_X HIP_CENTER_Y HIP_CENTER_Z\n",
       "1 27 1     95757      0    p27        1.0822322    47.14464     12.35252    \n",
       "2 27 2     95758 330000    p27        1.0267540    47.14464     12.31889    \n",
       "3 27 3     95759 660000    p27        0.9836366    47.14464     12.34791    \n",
       "  HIP_CENTER_TRACKSTATE SPINE_X   ⋯ mean_z   utt_mean_x utt_mean_y utt_mean_z\n",
       "1 2                     0.1706741 ⋯ 30.42871 3.438406   29.07597   30.47875  \n",
       "2 2                     0.1706741 ⋯ 30.42871 3.438406   29.07597   30.47875  \n",
       "3 2                     0.1830348 ⋯ 30.42871 3.438406   29.07597   30.47875  \n",
       "  non_utt_mean_x non_utt_mean_y non_utt_mean_z left_mp_dist right_mp_dist\n",
       "1 3.527354       30.10284       30.38141       25.35109     32.17484     \n",
       "2 3.527354       30.10284       30.38141       24.84583     32.14968     \n",
       "3 3.527354       30.10284       30.38141       24.36886     32.12554     \n",
       "  mean_mp_dist\n",
       "1 28.76297    \n",
       "2 28.49776    \n",
       "3 28.24720    "
      ]
     },
     "metadata": {},
     "output_type": "display_data"
    }
   ],
   "source": [
    "# get average distance to mean position\n",
    "\n",
    "body_data$mean_mp_dist <-rowMeans(body_data[,c(\"left_mp_dist\", \"right_mp_dist\")])\n",
    "head(body_data,3)"
   ]
  },
  {
   "cell_type": "code",
   "execution_count": 180,
   "metadata": {
    "collapsed": false
   },
   "outputs": [
    {
     "data": {
      "text/html": [
       "<table>\n",
       "<thead><tr><th scope=col>Signer</th><th scope=col>segment_number</th><th scope=col>left_mp_dist</th><th scope=col>right_mp_dist</th><th scope=col>mean_mp_dist</th><th scope=col>is_utterance</th><th scope=col>cohort</th><th scope=col>YoE</th></tr></thead>\n",
       "<tbody>\n",
       "\t<tr><td>27       </td><td>553      </td><td>14.59661 </td><td>18.36058 </td><td>16.47860 </td><td>Utterance</td><td>1        </td><td>1977     </td></tr>\n",
       "\t<tr><td>27       </td><td>554      </td><td>12.85395 </td><td>15.35232 </td><td>14.10313 </td><td>Utterance</td><td>1        </td><td>1977     </td></tr>\n",
       "\t<tr><td>27       </td><td>557      </td><td>14.68874 </td><td>23.02538 </td><td>18.85706 </td><td>Utterance</td><td>1        </td><td>1977     </td></tr>\n",
       "</tbody>\n",
       "</table>\n"
      ],
      "text/latex": [
       "\\begin{tabular}{r|llllllll}\n",
       " Signer & segment\\_number & left\\_mp\\_dist & right\\_mp\\_dist & mean\\_mp\\_dist & is\\_utterance & cohort & YoE\\\\\n",
       "\\hline\n",
       "\t 27        & 553       & 14.59661  & 18.36058  & 16.47860  & Utterance & 1         & 1977     \\\\\n",
       "\t 27        & 554       & 12.85395  & 15.35232  & 14.10313  & Utterance & 1         & 1977     \\\\\n",
       "\t 27        & 557       & 14.68874  & 23.02538  & 18.85706  & Utterance & 1         & 1977     \\\\\n",
       "\\end{tabular}\n"
      ],
      "text/markdown": [
       "\n",
       "Signer | segment_number | left_mp_dist | right_mp_dist | mean_mp_dist | is_utterance | cohort | YoE | \n",
       "|---|---|---|\n",
       "| 27        | 553       | 14.59661  | 18.36058  | 16.47860  | Utterance | 1         | 1977      | \n",
       "| 27        | 554       | 12.85395  | 15.35232  | 14.10313  | Utterance | 1         | 1977      | \n",
       "| 27        | 557       | 14.68874  | 23.02538  | 18.85706  | Utterance | 1         | 1977      | \n",
       "\n",
       "\n"
      ],
      "text/plain": [
       "  Signer segment_number left_mp_dist right_mp_dist mean_mp_dist is_utterance\n",
       "1 27     553            14.59661     18.36058      16.47860     Utterance   \n",
       "2 27     554            12.85395     15.35232      14.10313     Utterance   \n",
       "3 27     557            14.68874     23.02538      18.85706     Utterance   \n",
       "  cohort YoE \n",
       "1 1      1977\n",
       "2 1      1977\n",
       "3 1      1977"
      ]
     },
     "metadata": {},
     "output_type": "display_data"
    },
    {
     "data": {
      "text/html": [
       "<table>\n",
       "<thead><tr><th></th><th scope=col>Signer</th><th scope=col>segment_number</th><th scope=col>left_mp_dist</th><th scope=col>right_mp_dist</th><th scope=col>mean_mp_dist</th><th scope=col>is_utterance</th><th scope=col>cohort</th><th scope=col>YoE</th></tr></thead>\n",
       "<tbody>\n",
       "\t<tr><th scope=row>1148</th><td>736          </td><td> 60          </td><td>16.76981     </td><td>12.76880     </td><td>14.76931     </td><td>Non Utterance</td><td>4            </td><td>2003         </td></tr>\n",
       "\t<tr><th scope=row>1149</th><td>736          </td><td>263          </td><td>14.05042     </td><td>13.59497     </td><td>13.82269     </td><td>Non Utterance</td><td>4            </td><td>2003         </td></tr>\n",
       "\t<tr><th scope=row>1150</th><td>736          </td><td> 53          </td><td>14.03547     </td><td>13.82564     </td><td>13.93055     </td><td>Non Utterance</td><td>4            </td><td>2003         </td></tr>\n",
       "</tbody>\n",
       "</table>\n"
      ],
      "text/latex": [
       "\\begin{tabular}{r|llllllll}\n",
       "  & Signer & segment\\_number & left\\_mp\\_dist & right\\_mp\\_dist & mean\\_mp\\_dist & is\\_utterance & cohort & YoE\\\\\n",
       "\\hline\n",
       "\t1148 & 736           &  60           & 16.76981      & 12.76880      & 14.76931      & Non Utterance & 4             & 2003         \\\\\n",
       "\t1149 & 736           & 263           & 14.05042      & 13.59497      & 13.82269      & Non Utterance & 4             & 2003         \\\\\n",
       "\t1150 & 736           &  53           & 14.03547      & 13.82564      & 13.93055      & Non Utterance & 4             & 2003         \\\\\n",
       "\\end{tabular}\n"
      ],
      "text/markdown": [
       "\n",
       "| <!--/--> | Signer | segment_number | left_mp_dist | right_mp_dist | mean_mp_dist | is_utterance | cohort | YoE | \n",
       "|---|---|---|\n",
       "| 1148 | 736           |  60           | 16.76981      | 12.76880      | 14.76931      | Non Utterance | 4             | 2003          | \n",
       "| 1149 | 736           | 263           | 14.05042      | 13.59497      | 13.82269      | Non Utterance | 4             | 2003          | \n",
       "| 1150 | 736           |  53           | 14.03547      | 13.82564      | 13.93055      | Non Utterance | 4             | 2003          | \n",
       "\n",
       "\n"
      ],
      "text/plain": [
       "     Signer segment_number left_mp_dist right_mp_dist mean_mp_dist\n",
       "1148 736     60            16.76981     12.76880      14.76931    \n",
       "1149 736    263            14.05042     13.59497      13.82269    \n",
       "1150 736     53            14.03547     13.82564      13.93055    \n",
       "     is_utterance  cohort YoE \n",
       "1148 Non Utterance 4      2003\n",
       "1149 Non Utterance 4      2003\n",
       "1150 Non Utterance 4      2003"
      ]
     },
     "metadata": {},
     "output_type": "display_data"
    }
   ],
   "source": [
    "# aggregate distance to mean position by segment \n",
    "\n",
    "body_data$is_utterance <- as.factor(body_data$is_utterance)\n",
    "\n",
    "#utterance data \n",
    "utterance_distances <- aggregate(subset(body_data, is_utterance == 1)[,c(\"left_mp_dist\", \"right_mp_dist\", \"mean_mp_dist\")], by = list(subset(body_data, is_utterance == 1)$id, subset(body_data, is_utterance == 1)$segment_number), FUN = mean)\n",
    "colnames(utterance_distances) <- c(\"Signer\", \"segment_number\", \"left_mp_dist\", \"right_mp_dist\", \"mean_mp_dist\")\n",
    "utterance_distances$is_utterance <- \"Utterance\"\n",
    "# head(utterance_distances)\n",
    "# nrow(utterance_distances)\n",
    "\n",
    "#non-utterance data\n",
    "non_utterance_distances <- aggregate(subset(body_data, is_utterance == 0)[,c(\"left_mp_dist\", \"right_mp_dist\", \"mean_mp_dist\")], by = list(subset(body_data, is_utterance == 0)$id, subset(body_data, is_utterance == 0)$segment_number), FUN = mean)\n",
    "colnames(non_utterance_distances) <- c(\"Signer\", \"segment_number\", \"left_mp_dist\", \"right_mp_dist\", \"mean_mp_dist\")\n",
    "non_utterance_distances$is_utterance <- \"Non Utterance\"\n",
    "# head(non_utterance_distances)\n",
    "# nrow(non_utterance_distances)\n",
    "\n",
    "#join\n",
    "mp_distances <- rbind(utterance_distances, non_utterance_distances)\n",
    "mp_distances <- merge(mp_distances, YoE)\n",
    "head(mp_distances,3)\n",
    "tail(mp_distances, 3)"
   ]
  },
  {
   "cell_type": "code",
   "execution_count": 217,
   "metadata": {
    "collapsed": false
   },
   "outputs": [
    {
     "name": "stdout",
     "output_type": "stream",
     "text": [
      "min distance:"
     ]
    },
    {
     "data": {
      "text/html": [
       "12.582939509672"
      ],
      "text/latex": [
       "12.582939509672"
      ],
      "text/markdown": [
       "12.582939509672"
      ],
      "text/plain": [
       "[1] 12.58294"
      ]
     },
     "metadata": {},
     "output_type": "display_data"
    },
    {
     "name": "stdout",
     "output_type": "stream",
     "text": [
      "max distance:"
     ]
    },
    {
     "data": {
      "text/html": [
       "38.4143141710451"
      ],
      "text/latex": [
       "38.4143141710451"
      ],
      "text/markdown": [
       "38.4143141710451"
      ],
      "text/plain": [
       "[1] 38.41431"
      ]
     },
     "metadata": {},
     "output_type": "display_data"
    }
   ],
   "source": [
    "cat(\"min distance:\")\n",
    "min(mp_distances$mean_mp_dist)\n",
    "\n",
    "cat(\"max distance:\")\n",
    "max(mp_distances$mean_mp_dist)"
   ]
  },
  {
   "cell_type": "code",
   "execution_count": 220,
   "metadata": {
    "collapsed": false
   },
   "outputs": [
    {
     "name": "stdout",
     "output_type": "stream",
     "text": [
      "distance to mean position of wrists by year of entry"
     ]
    },
    {
     "data": {},
     "metadata": {},
     "output_type": "display_data"
    },
    {
     "name": "stderr",
     "output_type": "stream",
     "text": [
      "Saving 7 x 7 in image\n"
     ]
    },
    {
     "data": {
      "image/png": "[encoded data removed]",
      "text/plain": [
       "plot without title"
      ]
     },
     "metadata": {},
     "output_type": "display_data"
    }
   ],
   "source": [
    "require(ggplot2)\n",
    "\n",
    "cat(\"distance to mean position of wrists by year of entry\")\n",
    "\n",
    "p <- ggplot(mp_distances, aes(x = YoE, y = mean_mp_dist, color = is_utterance))+\n",
    "geom_point(size = 2)+\n",
    "scale_x_continuous(breaks = seq(1970,2005,by = 5))+\n",
    "xlab(\"Year of entry\")+\n",
    "ylab(\"cm\")+\n",
    "theme_light(base_size = 18)+\n",
    "theme(legend.title = element_blank(), aspect.ratio=1)\n",
    "\n",
    "p\n",
    "ggsave(\"mp_distance_plot.jpeg\", p)"
   ]
  },
  {
   "cell_type": "code",
   "execution_count": 218,
   "metadata": {
    "collapsed": false
   },
   "outputs": [
    {
     "data": {
      "text/plain": [
       "Linear mixed model fit by REML ['lmerMod']\n",
       "Formula: \n",
       "mean_mp_dist ~ YoE_centered + is_utterance + YoE_centered:is_utterance +  \n",
       "    (1 | Signer)\n",
       "   Data: mp_distances\n",
       "\n",
       "REML criterion at convergence: 5213.5\n",
       "\n",
       "Scaled residuals: \n",
       "    Min      1Q  Median      3Q     Max \n",
       "-2.9191 -0.5292 -0.0555  0.3983  8.2484 \n",
       "\n",
       "Random effects:\n",
       " Groups   Name        Variance Std.Dev.\n",
       " Signer   (Intercept) 1.552    1.246   \n",
       " Residual             5.164    2.272   \n",
       "Number of obs: 1150, groups:  Signer, 17\n",
       "\n",
       "Fixed effects:\n",
       "                                   Estimate Std. Error t value\n",
       "(Intercept)                        20.58163    0.59345   34.68\n",
       "YoE_centered                       -0.16960    0.03623   -4.68\n",
       "is_utteranceUtterance              -0.38877    0.25446   -1.53\n",
       "YoE_centered:is_utteranceUtterance  0.19735    0.01535   12.86\n",
       "\n",
       "Correlation of Fixed Effects:\n",
       "            (Intr) YE_cnt is_ttU\n",
       "YoE_centerd -0.846              \n",
       "is_ttrncUtt -0.215  0.180       \n",
       "YE_cntrd:_U  0.183 -0.211 -0.850"
      ]
     },
     "metadata": {},
     "output_type": "display_data"
    },
    {
     "name": "stdout",
     "output_type": "stream",
     "text": [
      "overall"
     ]
    },
    {
     "name": "stderr",
     "output_type": "stream",
     "text": [
      "refitting model(s) with ML (instead of REML)\n"
     ]
    },
    {
     "data": {
      "text/html": [
       "<table>\n",
       "<thead><tr><th></th><th scope=col>Df</th><th scope=col>AIC</th><th scope=col>BIC</th><th scope=col>logLik</th><th scope=col>deviance</th><th scope=col>Chisq</th><th scope=col>Chi Df</th><th scope=col>Pr(&gt;Chisq)</th></tr></thead>\n",
       "<tbody>\n",
       "\t<tr><th scope=row>null_mdl</th><td>3           </td><td>5613.010    </td><td>5628.153    </td><td>-2803.505   </td><td>5607.010    </td><td>      NA    </td><td>NA          </td><td>          NA</td></tr>\n",
       "\t<tr><th scope=row>full_mdl</th><td>6           </td><td>5211.341    </td><td>5241.626    </td><td>-2599.671   </td><td>5199.341    </td><td>407.6691    </td><td> 3          </td><td>4.829752e-88</td></tr>\n",
       "</tbody>\n",
       "</table>\n"
      ],
      "text/latex": [
       "\\begin{tabular}{r|llllllll}\n",
       "  & Df & AIC & BIC & logLik & deviance & Chisq & Chi Df & Pr(>Chisq)\\\\\n",
       "\\hline\n",
       "\tnull\\_mdl & 3            & 5613.010     & 5628.153     & -2803.505    & 5607.010     &       NA     & NA           &           NA\\\\\n",
       "\tfull\\_mdl & 6            & 5211.341     & 5241.626     & -2599.671    & 5199.341     & 407.6691     &  3           & 4.829752e-88\\\\\n",
       "\\end{tabular}\n"
      ],
      "text/markdown": [
       "\n",
       "| <!--/--> | Df | AIC | BIC | logLik | deviance | Chisq | Chi Df | Pr(>Chisq) | \n",
       "|---|---|\n",
       "| null_mdl | 3            | 5613.010     | 5628.153     | -2803.505    | 5607.010     |       NA     | NA           |           NA | \n",
       "| full_mdl | 6            | 5211.341     | 5241.626     | -2599.671    | 5199.341     | 407.6691     |  3           | 4.829752e-88 | \n",
       "\n",
       "\n"
      ],
      "text/plain": [
       "         Df AIC      BIC      logLik    deviance Chisq    Chi Df Pr(>Chisq)  \n",
       "null_mdl 3  5613.010 5628.153 -2803.505 5607.010       NA NA               NA\n",
       "full_mdl 6  5211.341 5241.626 -2599.671 5199.341 407.6691  3     4.829752e-88"
      ]
     },
     "metadata": {},
     "output_type": "display_data"
    },
    {
     "name": "stdout",
     "output_type": "stream",
     "text": [
      "effect of interaction?"
     ]
    },
    {
     "name": "stderr",
     "output_type": "stream",
     "text": [
      "refitting model(s) with ML (instead of REML)\n"
     ]
    },
    {
     "data": {
      "text/html": [
       "<table>\n",
       "<thead><tr><th></th><th scope=col>Df</th><th scope=col>AIC</th><th scope=col>BIC</th><th scope=col>logLik</th><th scope=col>deviance</th><th scope=col>Chisq</th><th scope=col>Chi Df</th><th scope=col>Pr(&gt;Chisq)</th></tr></thead>\n",
       "<tbody>\n",
       "\t<tr><th scope=row>mdl</th><td>5           </td><td>5363.947    </td><td>5389.185    </td><td>-2676.974   </td><td>5353.947    </td><td>      NA    </td><td>NA          </td><td>          NA</td></tr>\n",
       "\t<tr><th scope=row>full_mdl</th><td>6           </td><td>5211.341    </td><td>5241.626    </td><td>-2599.671   </td><td>5199.341    </td><td>154.6059    </td><td> 1          </td><td>1.707297e-35</td></tr>\n",
       "</tbody>\n",
       "</table>\n"
      ],
      "text/latex": [
       "\\begin{tabular}{r|llllllll}\n",
       "  & Df & AIC & BIC & logLik & deviance & Chisq & Chi Df & Pr(>Chisq)\\\\\n",
       "\\hline\n",
       "\tmdl & 5            & 5363.947     & 5389.185     & -2676.974    & 5353.947     &       NA     & NA           &           NA\\\\\n",
       "\tfull\\_mdl & 6            & 5211.341     & 5241.626     & -2599.671    & 5199.341     & 154.6059     &  1           & 1.707297e-35\\\\\n",
       "\\end{tabular}\n"
      ],
      "text/markdown": [
       "\n",
       "| <!--/--> | Df | AIC | BIC | logLik | deviance | Chisq | Chi Df | Pr(>Chisq) | \n",
       "|---|---|\n",
       "| mdl | 5            | 5363.947     | 5389.185     | -2676.974    | 5353.947     |       NA     | NA           |           NA | \n",
       "| full_mdl | 6            | 5211.341     | 5241.626     | -2599.671    | 5199.341     | 154.6059     |  1           | 1.707297e-35 | \n",
       "\n",
       "\n"
      ],
      "text/plain": [
       "         Df AIC      BIC      logLik    deviance Chisq    Chi Df Pr(>Chisq)  \n",
       "mdl      5  5363.947 5389.185 -2676.974 5353.947       NA NA               NA\n",
       "full_mdl 6  5211.341 5241.626 -2599.671 5199.341 154.6059  1     1.707297e-35"
      ]
     },
     "metadata": {},
     "output_type": "display_data"
    },
    {
     "name": "stdout",
     "output_type": "stream",
     "text": [
      "main effect of frame type?"
     ]
    },
    {
     "name": "stderr",
     "output_type": "stream",
     "text": [
      "refitting model(s) with ML (instead of REML)\n"
     ]
    },
    {
     "data": {
      "text/html": [
       "<table>\n",
       "<thead><tr><th></th><th scope=col>Df</th><th scope=col>AIC</th><th scope=col>BIC</th><th scope=col>logLik</th><th scope=col>deviance</th><th scope=col>Chisq</th><th scope=col>Chi Df</th><th scope=col>Pr(&gt;Chisq)</th></tr></thead>\n",
       "<tbody>\n",
       "\t<tr><th scope=row>YoE_only</th><td>4           </td><td>5610.815    </td><td>5631.005    </td><td>-2801.407   </td><td>5602.815    </td><td>      NA    </td><td>NA          </td><td>          NA</td></tr>\n",
       "\t<tr><th scope=row>full_mdl</th><td>6           </td><td>5211.341    </td><td>5241.626    </td><td>-2599.671   </td><td>5199.341    </td><td>403.4736    </td><td> 2          </td><td>2.436791e-88</td></tr>\n",
       "</tbody>\n",
       "</table>\n"
      ],
      "text/latex": [
       "\\begin{tabular}{r|llllllll}\n",
       "  & Df & AIC & BIC & logLik & deviance & Chisq & Chi Df & Pr(>Chisq)\\\\\n",
       "\\hline\n",
       "\tYoE\\_only & 4            & 5610.815     & 5631.005     & -2801.407    & 5602.815     &       NA     & NA           &           NA\\\\\n",
       "\tfull\\_mdl & 6            & 5211.341     & 5241.626     & -2599.671    & 5199.341     & 403.4736     &  2           & 2.436791e-88\\\\\n",
       "\\end{tabular}\n"
      ],
      "text/markdown": [
       "\n",
       "| <!--/--> | Df | AIC | BIC | logLik | deviance | Chisq | Chi Df | Pr(>Chisq) | \n",
       "|---|---|\n",
       "| YoE_only | 4            | 5610.815     | 5631.005     | -2801.407    | 5602.815     |       NA     | NA           |           NA | \n",
       "| full_mdl | 6            | 5211.341     | 5241.626     | -2599.671    | 5199.341     | 403.4736     |  2           | 2.436791e-88 | \n",
       "\n",
       "\n"
      ],
      "text/plain": [
       "         Df AIC      BIC      logLik    deviance Chisq    Chi Df Pr(>Chisq)  \n",
       "YoE_only 4  5610.815 5631.005 -2801.407 5602.815       NA NA               NA\n",
       "full_mdl 6  5211.341 5241.626 -2599.671 5199.341 403.4736  2     2.436791e-88"
      ]
     },
     "metadata": {},
     "output_type": "display_data"
    },
    {
     "name": "stdout",
     "output_type": "stream",
     "text": [
      "main effect of YoE?"
     ]
    },
    {
     "name": "stderr",
     "output_type": "stream",
     "text": [
      "refitting model(s) with ML (instead of REML)\n"
     ]
    },
    {
     "data": {
      "text/html": [
       "<table>\n",
       "<thead><tr><th></th><th scope=col>Df</th><th scope=col>AIC</th><th scope=col>BIC</th><th scope=col>logLik</th><th scope=col>deviance</th><th scope=col>Chisq</th><th scope=col>Chi Df</th><th scope=col>Pr(&gt;Chisq)</th></tr></thead>\n",
       "<tbody>\n",
       "\t<tr><th scope=row>frame_type_only</th><td>4          </td><td>5365.973   </td><td>5386.163   </td><td>-2678.987  </td><td>5357.973   </td><td>      NA   </td><td>NA         </td><td>         NA</td></tr>\n",
       "\t<tr><th scope=row>full_mdl</th><td>6          </td><td>5211.341   </td><td>5241.626   </td><td>-2599.671  </td><td>5199.341   </td><td>158.6318   </td><td> 2         </td><td>3.57723e-35</td></tr>\n",
       "</tbody>\n",
       "</table>\n"
      ],
      "text/latex": [
       "\\begin{tabular}{r|llllllll}\n",
       "  & Df & AIC & BIC & logLik & deviance & Chisq & Chi Df & Pr(>Chisq)\\\\\n",
       "\\hline\n",
       "\tframe\\_type\\_only & 4           & 5365.973    & 5386.163    & -2678.987   & 5357.973    &       NA    & NA          &          NA\\\\\n",
       "\tfull\\_mdl & 6           & 5211.341    & 5241.626    & -2599.671   & 5199.341    & 158.6318    &  2          & 3.57723e-35\\\\\n",
       "\\end{tabular}\n"
      ],
      "text/markdown": [
       "\n",
       "| <!--/--> | Df | AIC | BIC | logLik | deviance | Chisq | Chi Df | Pr(>Chisq) | \n",
       "|---|---|\n",
       "| frame_type_only | 4           | 5365.973    | 5386.163    | -2678.987   | 5357.973    |       NA    | NA          |          NA | \n",
       "| full_mdl | 6           | 5211.341    | 5241.626    | -2599.671   | 5199.341    | 158.6318    |  2          | 3.57723e-35 | \n",
       "\n",
       "\n"
      ],
      "text/plain": [
       "                Df AIC      BIC      logLik    deviance Chisq    Chi Df\n",
       "frame_type_only 4  5365.973 5386.163 -2678.987 5357.973       NA NA    \n",
       "full_mdl        6  5211.341 5241.626 -2599.671 5199.341 158.6318  2    \n",
       "                Pr(>Chisq) \n",
       "frame_type_only          NA\n",
       "full_mdl        3.57723e-35"
      ]
     },
     "metadata": {},
     "output_type": "display_data"
    }
   ],
   "source": [
    "#stats\n",
    "\n",
    "require(\"lme4\")\n",
    "\n",
    "#predictor variable is centered so intercept is the earliest year of entry in our dataset. \n",
    "mp_distances$YoE_centered <- mp_distances$YoE - min(mp_distances$YoE)\n",
    "\n",
    "full_mdl <- lmer(mean_mp_dist ~ YoE_centered + is_utterance +  YoE_centered:is_utterance +(1|Signer), data = mp_distances)\n",
    "mdl <- lmer(mean_mp_dist ~ YoE_centered + is_utterance +(1|Signer), data = mp_distances)\n",
    "\n",
    "YoE_only <- lmer(mean_mp_dist ~ YoE_centered +(1|Signer), data = mp_distances)\n",
    "frame_type_only <- lmer(mean_mp_dist ~ is_utterance +(1|Signer), data = mp_distances)\n",
    "\n",
    "null_mdl <- lmer(mean_mp_dist ~ (1|Signer), data = mp_distances)\n",
    "\n",
    "summary(full_mdl)\n",
    "\n",
    "cat(\"overall\")\n",
    "anova(full_mdl, null_mdl)\n",
    "\n",
    "cat(\"effect of interaction?\")\n",
    "anova(full_mdl, mdl)\n",
    "\n",
    "cat(\"main effect of frame type?\")\n",
    "anova(full_mdl, YoE_only)\n",
    "\n",
    "cat(\"main effect of YoE?\")\n",
    "anova(full_mdl, frame_type_only)"
   ]
  },
  {
   "cell_type": "code",
   "execution_count": null,
   "metadata": {
    "collapsed": true
   },
   "outputs": [],
   "source": []
  },
  {
   "cell_type": "code",
   "execution_count": null,
   "metadata": {
    "collapsed": true
   },
   "outputs": [],
   "source": []
  },
  {
   "cell_type": "code",
   "execution_count": null,
   "metadata": {
    "collapsed": true
   },
   "outputs": [],
   "source": []
  }
 ],
 "metadata": {
  "anaconda-cloud": {},
  "kernelspec": {
   "display_name": "R",
   "language": "R",
   "name": "ir"
  },
  "language_info": {
   "codemirror_mode": "r",
   "file_extension": ".r",
   "mimetype": "text/x-r-source",
   "name": "R",
   "pygments_lexer": "r",
   "version": "3.3.2"
  }
 },
 "nbformat": 4,
 "nbformat_minor": 1
}
